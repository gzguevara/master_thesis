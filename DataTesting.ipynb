{
 "cells": [
  {
   "cell_type": "markdown",
   "metadata": {},
   "source": [
    "# Imports"
   ]
  },
  {
   "cell_type": "code",
   "execution_count": 1,
   "metadata": {},
   "outputs": [],
   "source": [
    "import numpy as np\n",
    "import pandas as pd\n",
    "\n",
    "import matplotlib.pyplot as plt\n",
    "\n",
    "import scipy.stats as stats\n",
    "\n",
    "from sklearn import linear_model\n",
    "\n",
    "from statsmodels.tsa.arima.model import ARIMA\n",
    "from statsmodels.tsa.stattools import adfuller\n",
    "import statsmodels.api as sm\n",
    "\n",
    "import statsmodels\n",
    "import plotly.express as px\n",
    "\n",
    "event_folder = '/Users/erichganz/Documents/Master Thesis/investment data'\n",
    "reg_folder   = '/Users/erichganz/Documents/Master Thesis/Regression Folder'\n",
    "\n",
    "#\n",
    "#Load company data and tieseries\n",
    "comp_data_eval       = pd.read_excel('/Users/erichganz/Documents/Master Thesis/Data/tolookup.xlsx', index_col=0)\n",
    "timeseries_short     = pd.read_excel('/Users/erichganz/Documents/Master Thesis/Data/timeseries_short.xlsx', index_col=0)\n",
    "timeseries_middle    = pd.read_excel('/Users/erichganz/Documents/Master Thesis/Data/timeseries_middle.xlsx', index_col=0)\n",
    "timeseries_long      = pd.read_excel('/Users/erichganz/Documents/Master Thesis/Data/timeseries_long.xlsx', index_col=0)\n",
    "timeseries_very_long = pd.read_excel('/Users/erichganz/Documents/Master Thesis/Data/timeseries_very_long.xlsx', index_col=0)\n",
    "\n",
    "def code_to_time(code, extension = ''):\n",
    "\n",
    "    foundation = int(comp_data_eval.loc[comp_data_eval.Code == code].FoundationYear)\n",
    "    if foundation   >= 2018: return timeseries_short[[f'{code}{extension}']][str(foundation) + '-01-01':]\n",
    "    elif foundation >= 2015: return timeseries_middle[[f'{code}{extension}']][str(foundation) + '-01-01':]\n",
    "    elif foundation >= 2012: return timeseries_long[[f'{code}{extension}']][str(foundation) + '-01-01':]\n",
    "    else:                    return timeseries_very_long[[f'{code}{extension}']][str(foundation) + '-01-01':]"
   ]
  },
  {
   "cell_type": "markdown",
   "metadata": {},
   "source": [
    "# Variance Testing"
   ]
  },
  {
   "cell_type": "code",
   "execution_count": 55,
   "metadata": {},
   "outputs": [],
   "source": [
    "def f_test_var(series_1, series_2):\n",
    "\n",
    "    # Compute f-statistic and degrees of freedom\n",
    "    f, df1, df2 = np.var(series_1, ddof=1)/np.var(series_2, ddof=1), len(series_1) - 1, len(series_2) - 1\n",
    "\n",
    "    return float(f), float(stats.f.cdf(f, df1, df2))"
   ]
  },
  {
   "cell_type": "markdown",
   "metadata": {},
   "source": [
    "## For Adjusted Time Periods"
   ]
  },
  {
   "cell_type": "code",
   "execution_count": 60,
   "metadata": {},
   "outputs": [
    {
     "name": "stderr",
     "output_type": "stream",
     "text": [
      "/Users/erichganz/Library/Python/3.8/lib/python/site-packages/scipy/stats/_morestats.py:2468: RuntimeWarning:\n",
      "\n",
      "divide by zero encountered in log\n",
      "\n",
      "/Users/erichganz/Library/Python/3.8/lib/python/site-packages/scipy/stats/_morestats.py:2468: RuntimeWarning:\n",
      "\n",
      "divide by zero encountered in log\n",
      "\n",
      "/Users/erichganz/Library/Python/3.8/lib/python/site-packages/scipy/stats/_morestats.py:2468: RuntimeWarning:\n",
      "\n",
      "divide by zero encountered in log\n",
      "\n",
      "/Users/erichganz/Library/Python/3.8/lib/python/site-packages/scipy/stats/_morestats.py:2468: RuntimeWarning:\n",
      "\n",
      "divide by zero encountered in log\n",
      "\n",
      "/var/folders/95/03l6lh_j2fj5qfcb_7_xdn5w0000gn/T/ipykernel_53092/4121666608.py:4: RuntimeWarning:\n",
      "\n",
      "invalid value encountered in double_scalars\n",
      "\n",
      "/Users/erichganz/Library/Python/3.8/lib/python/site-packages/scipy/stats/_morestats.py:2604: RuntimeWarning:\n",
      "\n",
      "invalid value encountered in double_scalars\n",
      "\n",
      "/Users/erichganz/Library/Python/3.8/lib/python/site-packages/scipy/stats/_morestats.py:2468: RuntimeWarning:\n",
      "\n",
      "divide by zero encountered in log\n",
      "\n",
      "/Users/erichganz/Library/Python/3.8/lib/python/site-packages/scipy/stats/_morestats.py:2468: RuntimeWarning:\n",
      "\n",
      "invalid value encountered in double_scalars\n",
      "\n",
      "/Users/erichganz/Library/Python/3.8/lib/python/site-packages/scipy/stats/_morestats.py:2468: RuntimeWarning:\n",
      "\n",
      "divide by zero encountered in log\n",
      "\n",
      "/Users/erichganz/Library/Python/3.8/lib/python/site-packages/scipy/stats/_morestats.py:2468: RuntimeWarning:\n",
      "\n",
      "divide by zero encountered in log\n",
      "\n",
      "/Users/erichganz/Library/Python/3.8/lib/python/site-packages/scipy/stats/_morestats.py:2468: RuntimeWarning:\n",
      "\n",
      "divide by zero encountered in log\n",
      "\n",
      "/Users/erichganz/Library/Python/3.8/lib/python/site-packages/numpy/core/fromnumeric.py:3757: RuntimeWarning:\n",
      "\n",
      "Degrees of freedom <= 0 for slice\n",
      "\n",
      "/Users/erichganz/Library/Python/3.8/lib/python/site-packages/numpy/core/_methods.py:256: RuntimeWarning:\n",
      "\n",
      "invalid value encountered in double_scalars\n",
      "\n",
      "/Users/erichganz/Library/Python/3.8/lib/python/site-packages/scipy/stats/_morestats.py:2469: RuntimeWarning:\n",
      "\n",
      "divide by zero encountered in true_divide\n",
      "\n"
     ]
    }
   ],
   "source": [
    "for index_good_time, row in comp_data_eval.iterrows():\n",
    "\n",
    "    # Load residuals\n",
    "    input_data = '_resid_ARIMA'\n",
    "    data       = code_to_time(row.Code, input_data)\n",
    "\n",
    "    # Events\n",
    "    events     = pd.read_excel(f'{reg_folder}/{row.Name}.xlsx')\n",
    "    events.set_index(events.Date, inplace = True)\n",
    "    events.drop(['Date'], axis=1, inplace=True)\n",
    "\n",
    "    # List of event dates including start and end of timeline\n",
    "    points_in_time = events.loc[events.Event.isna()].index.union([data.index[0], data.index[-1]])[::-1]\n",
    "    \n",
    "    # P-values storage\n",
    "    p_value_f_test, p_value_levene, p_value_bartlett, j = [], [], [], 0\n",
    "\n",
    "    for i in range(len(events)):\n",
    "\n",
    "        # if event is a media event\n",
    "        if events.iloc[i,:].Event == events.iloc[i,:].Event:\n",
    "            p_value_f_test.append(np.nan)\n",
    "            p_value_levene.append(np.nan)\n",
    "            p_value_bartlett.append(np.nan)\n",
    "            continue\n",
    "\n",
    "        # Get relevant points of the period of interest\n",
    "        interval_1 = points_in_time[j+1] - points_in_time[j+2]\n",
    "        breakpoint = points_in_time[j+1]\n",
    "        interval_2 = points_in_time[j] - points_in_time[j+1]\n",
    "        start      = points_in_time[j+2]\n",
    "        end        = points_in_time[j]\n",
    "\n",
    "        if interval_1.days < 100 or interval_2.days < 100:\n",
    "            p_value_f_test.append(np.nan)\n",
    "            p_value_levene.append(np.nan)\n",
    "            p_value_bartlett.append(np.nan)\n",
    "            j+=1\n",
    "            continue\n",
    "\n",
    "        # if periods are too Long\n",
    "        if interval_1.days > 300: start = breakpoint - pd.Timedelta(days = 300)\n",
    "        if interval_2.days > 300: end   = breakpoint + pd.Timedelta(days = 300)\n",
    "\n",
    "        # Get relevant interval/period\n",
    "        interval_1 = data[start: breakpoint][f'{row.Code}{input_data}'].tolist()\n",
    "        interval_2 = data[breakpoint: end][f'{row.Code}{input_data}'].tolist()\n",
    "            \n",
    "        p_value_f_test.append(f_test_var(interval_1, interval_2)[1])\n",
    "        p_value_levene.append(stats.levene(interval_1, interval_2)[1])\n",
    "        p_value_bartlett.append(stats.bartlett(interval_1, interval_2)[1])\n",
    "        \n",
    "        j+=1\n",
    "        \n",
    "    # Add statistic to the table\n",
    "    events['F_test_p_value_ARIMAresid_TPadjusted']   = p_value_f_test\n",
    "    events['Levene_p_value_ARIMAresid_TPadjusted']   = p_value_levene\n",
    "    events['Bartlett_p_value_ARIMAresid_TPadjusted'] = p_value_bartlett\n",
    "\n",
    "    # Save results\n",
    "    events.to_excel(f'{reg_folder}/{row.Name}.xlsx')\n"
   ]
  },
  {
   "cell_type": "markdown",
   "metadata": {},
   "source": [
    "## Legacy From Event to Event"
   ]
  },
  {
   "cell_type": "code",
   "execution_count": null,
   "metadata": {},
   "outputs": [],
   "source": [
    "min_peiod = 56\n",
    "max_peiod = 356\n",
    "\n",
    "for index_good_time, row in comp_data_eval.iterrows():\n",
    "\n",
    "    # Load residuals\n",
    "    input_data = '_resid_ARIMA'\n",
    "    data       = code_to_time(row.Code, input_data)\n",
    "\n",
    "    # Events\n",
    "    events     = pd.read_excel(f'{reg_folder}/{row.Name}.xlsx')\n",
    "    events.set_index(events.Date, inplace = True)\n",
    "    events.drop(['Date'], axis=1, inplace=True)\n",
    "\n",
    "    # List of event dates including start and end of timeline\n",
    "    points_in_time = events.loc[events.Event.isna()].index.union([data.index[0], data.index[-1]])[::-1]\n",
    "    \n",
    "    # P-values storage\n",
    "    p_value_f_test, p_value_levene, p_value_bartlett, j = [], [], [], 0\n",
    "\n",
    "    for i in range(len(events)):\n",
    "\n",
    "        if events.iloc[i,:].Event == events.iloc[i,:].Event:\n",
    "\n",
    "            p_value_f_test.append(np.nan)\n",
    "            p_value_levene.append(np.nan)\n",
    "            p_value_bartlett.append(np.nan)\n",
    "            continue\n",
    "        \n",
    "        try:\n",
    "\n",
    "            # Get relevant points of the period of interest\n",
    "            start, breakpointa, breakpointb, end = points_in_time[j+2], points_in_time[j+1], points_in_time[j+1], points_in_time[j]\n",
    "            interval_1, interval_2 = breakpointa - start, end - breakpointb\n",
    "\n",
    "            # if periods are too short\n",
    "            k = j+3\n",
    "            while interval_1.days < min_peiod:\n",
    "                        \n",
    "                breakpointa = start\n",
    "                start = points_in_time[k]\n",
    "                interval_1 = breakpointa - start\n",
    "                k += 1\n",
    "            \n",
    "            k = j-1\n",
    "            while interval_2.days < min_peiod:\n",
    "                        \n",
    "                breakpointb = end\n",
    "                end = points_in_time[k]\n",
    "                interval_2 = end - breakpointb\n",
    "                k -= 1\n",
    "            \n",
    "            # if periods are too Long\n",
    "            if interval_1.days > max_peiod:\n",
    "\n",
    "                days = interval_1.days - max_peiod\n",
    "                start = start + pd.Timedelta(days = days)\n",
    "                interval_1 = breakpointa - start\n",
    "            \n",
    "            if interval_2.days > max_peiod:\n",
    "\n",
    "                days = interval_2.days - max_peiod\n",
    "                end = end - pd.Timedelta(days = days)\n",
    "                interval_2 = end - breakpointb\n",
    "\n",
    "            # Get relevant interval/period\n",
    "            interval_1 = data[start: breakpointa][f'{row.Code}{input_data}'].tolist()\n",
    "            interval_2 = data[breakpointb: end][f'{row.Code}{input_data}'].tolist()\n",
    "                \n",
    "            p_value_f_test.append(f_test_var(interval_1, interval_2)[1])\n",
    "            p_value_levene.append(stats.levene(interval_1, interval_2)[1])\n",
    "            p_value_bartlett.append(stats.bartlett(interval_1, interval_2)[1])\n",
    "        \n",
    "        except: \n",
    "\n",
    "            p_value_f_test.append(np.nan)\n",
    "            p_value_levene.append(np.nan)\n",
    "            p_value_bartlett.append(np.nan)\n",
    "            continue\n",
    "\n",
    "        j+=1\n",
    "\n",
    "\n",
    "    # Add statistic to the table\n",
    "    events['F_test_p_value_ARIMAresid_TPadjusted']   = p_value_f_test\n",
    "    events['Levene_p_value_ARIMAresid_TPadjusted']   = p_value_levene\n",
    "    events['Bartlett_p_value_ARIMAresid_TPadjusted'] = p_value_bartlett\n",
    "\n",
    "    # Save results\n",
    "    events.to_excel(f'{reg_folder}/{row.Name}.xlsx')"
   ]
  },
  {
   "cell_type": "code",
   "execution_count": 535,
   "metadata": {},
   "outputs": [],
   "source": [
    "for index_good_time, row in good_time.iterrows():\n",
    "\n",
    "    # Load residuals\n",
    "    input_data = '_resid_ARIMA'\n",
    "    data       = code_to_time(row.gtCode, input_data)\n",
    "\n",
    "    # Events\n",
    "    events     = pd.read_excel(f'{reg_folder}/{row.CompanyName}.xlsx')\n",
    "    events.set_index(events.Date, inplace = True)\n",
    "    events.drop(['Date'], axis=1, inplace=True)\n",
    "\n",
    "    # List of event dates including start and end of timeline\n",
    "    points_in_time = events.loc[events.Event.isna()].index.union([data.index[0], data.index[-1]])[::-1]\n",
    "    \n",
    "    # P-values storage\n",
    "    p_value_f_test, p_value_levene, p_value_bartlett, j = [], [], [], 0\n",
    "\n",
    "    for i in range(len(events)):\n",
    "\n",
    "        if events.iloc[i,1] == events.iloc[i,1]:\n",
    "\n",
    "            p_value_f_test.append(np.nan)\n",
    "            p_value_levene.append(np.nan)\n",
    "            p_value_bartlett.append(np.nan)\n",
    "            continue\n",
    "\n",
    "        # Get relevant interval/period\n",
    "        interval_1 = data[points_in_time[j+2]: points_in_time[j+1]][f'{row.gtCode}{input_data}'].tolist()\n",
    "        interval_2 = data[points_in_time[j+1]: points_in_time[j]][f'{row.gtCode}{input_data}'].tolist()\n",
    "\n",
    "        if len(interval_1) < 8 or len(interval_2) < 8:\n",
    "\n",
    "            p_value_f_test.append(np.nan)\n",
    "            p_value_levene.append(np.nan)\n",
    "            p_value_bartlett.append(np.nan)\n",
    "    \n",
    "        else:\n",
    "            \n",
    "            # Get p-values\n",
    "            p_value_f_test.append(f_test_var(interval_1, interval_2)[1])\n",
    "            p_value_levene.append(stats.levene(interval_1, interval_2)[1])\n",
    "            p_value_bartlett.append(stats.bartlett(interval_1, interval_2)[1])\n",
    "\n",
    "        j+=1\n",
    "\n",
    "\n",
    "    # Add statistic to the table\n",
    "    events['F_test_p_value_ARIMAresid_longTP']   = p_value_f_test\n",
    "    events['Levene_p_value_ARIMAresid_longTP']   = p_value_levene\n",
    "    events['Bartlett_p_value_ARIMAresid_longTP'] = p_value_bartlett\n",
    "\n",
    "    # Save results\n",
    "    events.to_excel(f'{reg_folder}/{row.CompanyName}.xlsx')"
   ]
  },
  {
   "cell_type": "markdown",
   "metadata": {},
   "source": [
    "# Structural Changes Test"
   ]
  },
  {
   "cell_type": "code",
   "execution_count": 325,
   "metadata": {},
   "outputs": [],
   "source": [
    "time = ['2020-06-18', '2020-03-17', '2018-03-23', '2020-04-15',\n",
    "               '2019-12-16', '2019-02-11', '2017-06-21', '2019-03-25',\n",
    "               '2015-05-06', '2014-11-08', '2016-12-09']\n",
    "\n",
    "time = [pd.Timestamp(date) for date in time]\n",
    "\n",
    "names = ['Mapillary', 'Babylon Health', 'PolyAI', 'Onfido', 'Habana Labs',\n",
    "       'Nuro', 'Cybereason', 'Dynamic Yield', 'Affirm', 'SenseTime',\n",
    "       'MEGVII']\n",
    "\n",
    "event_type = ['Acquired', 'Incubator/Accelerator - II', 'Seed', 'Series D',\n",
    "       'Acquired', 'Series B', 'Series D', 'Acquired', 'Series C',\n",
    "       'Series A', 'Series C']"
   ]
  },
  {
   "cell_type": "code",
   "execution_count": 364,
   "metadata": {},
   "outputs": [],
   "source": [
    "import math\n",
    "\n",
    "\n",
    "def displacement(a,b):\n",
    "\n",
    "    dist = math.hypot(b - a)\n",
    "\n",
    "    if b >= a:\n",
    "\n",
    "        return dist\n",
    "    \n",
    "    return - dist"
   ]
  },
  {
   "cell_type": "code",
   "execution_count": 470,
   "metadata": {},
   "outputs": [],
   "source": [
    "from math import atan2\n",
    "from math import degrees\n",
    "\n",
    "def chow_test_structure_both(df, withevents, breakpoint, name, namecomp):\n",
    "\n",
    "    df = sm.add_constant(df)\n",
    "    df = statsmodels.tsa.tsatools.add_trend(df, trend='t')\n",
    "\n",
    "    df['const_dummy'] = (df.index >= breakpoint).astype(int)\n",
    "    df['trend_dummy'] = [0] * (df.shape[0] - df['const_dummy'].sum()) + list(range(1,np.sum(df['const_dummy'])+1)) \n",
    "    \n",
    "    # df['const_dummy'] * df['trend']\n",
    "\n",
    "    model_u = sm.OLS(df[f'{name}'], df.drop(name, axis=1)).fit()\n",
    "\n",
    "    \n",
    "    if namecomp == 'Affirm' and breakpoint == pd.Timestamp('2021-01-13'):\n",
    "\n",
    "        df['unrestricted'] = model_u.predict()\n",
    "    \n",
    "        print(model_u.pvalues.const, model_u.pvalues.trend, model_u.pvalues.const_dummy, model_u.pvalues.trend_dummy)\n",
    "\n",
    "        df[f'{name}'] = withevents\n",
    "        \n",
    "        fig = px.line(df, x=df.index, y=[f'{name}', 'unrestricted'], title= f'{namecomp} - Dissimilar regression After IPO', labels={'company': 'Interest', 'date': 'Time since founding'})\n",
    "        fig.add_vline(x=breakpoint, line_width=1, line_dash=\"dash\", line_color=\"red\")\n",
    "\n",
    "        fig.show()\n",
    "    \n",
    "    \n",
    "    return model_u.pvalues.const, model_u.pvalues.trend, model_u.pvalues.const_dummy, model_u.pvalues.trend_dummy\n",
    "    \n",
    "def chow_test_structure_inter(df, withevents, breakpoint, name, namecomp):\n",
    "\n",
    "    df = sm.add_constant(df)\n",
    "    df = statsmodels.tsa.tsatools.add_trend(df, trend='t')\n",
    "\n",
    "    df['const_dummy'] = (df.index >= breakpoint).astype(int)\n",
    "\n",
    "    model_u = sm.OLS(df[f'{name}'], df.drop([f'{name}'], axis=1)).fit()\n",
    "    \n",
    "    df['unrestricted'] = model_u.predict()\n",
    "\n",
    "    \n",
    "    if namecomp == 'Zymergen' and breakpoint == pd.Timestamp('2020-09-08'):\n",
    "    \n",
    "        print(model_u.pvalues.const, model_u.pvalues.trend, model_u.pvalues.const_dummy)\n",
    "\n",
    "        df[f'{name}'] = withevents\n",
    "        #{event_type[names.index(namecomp)]\n",
    "        \n",
    "        fig = px.line(df, x=df.index, y=[f'{name}', 'unrestricted'], title= f'{namecomp} - Parallel Regression After Series A', labels={'company': 'Interest', 'date': 'Time since founding'})\n",
    "        fig.add_vline(x=breakpoint, line_width=1, line_dash=\"dash\", line_color=\"red\")\n",
    "\n",
    "        fig.show()\n",
    "    \n",
    "\n",
    "def chow_test_structure_slope(df, withevents, breakpoint, name, namecomp):\n",
    "\n",
    "    df = sm.add_constant(df)\n",
    "    df = statsmodels.tsa.tsatools.add_trend(df, trend='t')\n",
    "\n",
    "    df['const_dummy'] = (df.index >= breakpoint).astype(int)\n",
    "    df['trend_dummy'] = [0] * (df.shape[0] - df['const_dummy'].sum()) + list(range(1,np.sum(df['const_dummy'])+1))\n",
    "\n",
    "    model_u = sm.OLS(df[f'{name}'], df.drop([f'{name}', 'const_dummy'], axis=1)).fit()\n",
    "    \n",
    "    df['unrestricted'] = model_u.predict()\n",
    "\n",
    "    old_angle = degrees(atan2(model_u.params.trend, 1))\n",
    "    new_angle = degrees(atan2(model_u.params.trend+model_u.params.trend_dummy, 1))\n",
    "\n",
    "    \n",
    "    if namecomp == 'Graphcore' and breakpoint == pd.Timestamp('2017-11-13'):\n",
    "    \n",
    "        print(model_u.pvalues.trend_dummy, model_u.params.trend, model_u.params.trend_dummy, old_angle,new_angle, displacement(old_angle, new_angle))\n",
    "\n",
    "        #df[f'{name}'] = withevents\n",
    "        #{event_type[names.index(namecomp)]\n",
    "\n",
    "        fig = px.line(df, x=df.index, y=[f'{name}', 'unrestricted'], title= f'{namecomp} - Concurent Regressiob After Series C', labels={'company': 'Interest', 'date': 'Time since founding'})\n",
    "        fig.add_vline(x=breakpoint, line_width=1, line_dash=\"dash\", line_color=\"red\")\n",
    "\n",
    "        fig.show()\n",
    "    "
   ]
  },
  {
   "cell_type": "code",
   "execution_count": 471,
   "metadata": {},
   "outputs": [
    {
     "name": "stdout",
     "output_type": "stream",
     "text": [
      "6.525871688828876e-06 2.9890022889471813e-15 1.473906544977835e-15 3.0048809601380363e-13\n"
     ]
    },
    {
     "data": {
      "application/vnd.plotly.v1+json": {
       "config": {
        "plotlyServerURL": "https://plot.ly"
       },
       "data": [
        {
         "hovertemplate": "variable=/g/11fkl4bl9w_no_seasonality<br>Time since founding=%{x}<br>value=%{y}<extra></extra>",
         "legendgroup": "/g/11fkl4bl9w_no_seasonality",
         "line": {
          "color": "#636efa",
          "dash": "solid"
         },
         "marker": {
          "symbol": "circle"
         },
         "mode": "lines",
         "name": "/g/11fkl4bl9w_no_seasonality",
         "orientation": "v",
         "showlegend": true,
         "type": "scatter",
         "x": [
          "2020-09-27T00:00:00",
          "2020-10-04T00:00:00",
          "2020-10-11T00:00:00",
          "2020-10-18T00:00:00",
          "2020-10-25T00:00:00",
          "2020-11-01T00:00:00",
          "2020-11-08T00:00:00",
          "2020-11-15T00:00:00",
          "2020-11-22T00:00:00",
          "2020-11-29T00:00:00",
          "2020-12-06T00:00:00",
          "2020-12-13T00:00:00",
          "2020-12-20T00:00:00",
          "2020-12-27T00:00:00",
          "2021-01-03T00:00:00",
          "2021-01-10T00:00:00",
          "2021-01-17T00:00:00",
          "2021-01-24T00:00:00",
          "2021-01-31T00:00:00",
          "2021-02-07T00:00:00",
          "2021-02-14T00:00:00",
          "2021-02-21T00:00:00",
          "2021-02-28T00:00:00",
          "2021-03-07T00:00:00",
          "2021-03-14T00:00:00",
          "2021-03-21T00:00:00",
          "2021-03-28T00:00:00",
          "2021-04-04T00:00:00",
          "2021-04-11T00:00:00",
          "2021-04-18T00:00:00",
          "2021-04-25T00:00:00",
          "2021-05-02T00:00:00",
          "2021-05-09T00:00:00",
          "2021-05-16T00:00:00",
          "2021-05-23T00:00:00",
          "2021-05-30T00:00:00",
          "2021-06-06T00:00:00",
          "2021-06-13T00:00:00",
          "2021-06-20T00:00:00",
          "2021-06-27T00:00:00",
          "2021-07-04T00:00:00",
          "2021-07-11T00:00:00",
          "2021-07-18T00:00:00",
          "2021-07-25T00:00:00",
          "2021-08-01T00:00:00",
          "2021-08-08T00:00:00",
          "2021-08-15T00:00:00",
          "2021-08-22T00:00:00",
          "2021-08-29T00:00:00",
          "2021-09-05T00:00:00",
          "2021-09-12T00:00:00",
          "2021-09-19T00:00:00",
          "2021-09-26T00:00:00",
          "2021-10-03T00:00:00",
          "2021-10-10T00:00:00",
          "2021-10-17T00:00:00",
          "2021-10-24T00:00:00",
          "2021-10-31T00:00:00"
         ],
         "xaxis": "x",
         "y": [
          418.1667007458877,
          405.0989913475788,
          431.2344101441967,
          418.1667007458877,
          431.2344101441967,
          431.2344101441967,
          601.1146323222137,
          679.5208887120675,
          705.6563075086856,
          731.7917263053035,
          692.5885981103766,
          640.3177605171406,
          806.9310553455803,
          973.5443501740198,
          1140.157645002459,
          1306.770939830899,
          666.4531793137586,
          601.1146323222137,
          561.9115041272867,
          679.5208887120675,
          561.9115041272867,
          561.9115041272867,
          601.1146323222137,
          561.9115041272867,
          588.0469229239046,
          535.7760853306687,
          509.6406665340507,
          522.7083759323597,
          535.7760853306687,
          496.5729571357417,
          522.7083759323597,
          574.9792135255957,
          535.7760853306687,
          548.8437947289776,
          535.7760853306687,
          522.7083759323597,
          548.8437947289776,
          561.9115041272867,
          548.8437947289776,
          561.9115041272867,
          548.8437947289776,
          614.1823417205226,
          561.9115041272867,
          574.9792135255957,
          614.1823417205226,
          561.9115041272867,
          535.7760853306687,
          679.5208887120675,
          849.4011108900845,
          744.8594357036126,
          731.7917263053035,
          770.9948545002305,
          784.0625638985396,
          757.9271451019215,
          810.1979826951575,
          731.7917263053035,
          718.7240169069945,
          797.1302732968485
         ],
         "yaxis": "y"
        },
        {
         "hovertemplate": "variable=unrestricted<br>Time since founding=%{x}<br>value=%{y}<extra></extra>",
         "legendgroup": "unrestricted",
         "line": {
          "color": "#EF553B",
          "dash": "solid"
         },
         "marker": {
          "symbol": "circle"
         },
         "mode": "lines",
         "name": "unrestricted",
         "orientation": "v",
         "showlegend": true,
         "type": "scatter",
         "x": [
          "2020-09-27T00:00:00",
          "2020-10-04T00:00:00",
          "2020-10-11T00:00:00",
          "2020-10-18T00:00:00",
          "2020-10-25T00:00:00",
          "2020-11-01T00:00:00",
          "2020-11-08T00:00:00",
          "2020-11-15T00:00:00",
          "2020-11-22T00:00:00",
          "2020-11-29T00:00:00",
          "2020-12-06T00:00:00",
          "2020-12-13T00:00:00",
          "2020-12-20T00:00:00",
          "2020-12-27T00:00:00",
          "2021-01-03T00:00:00",
          "2021-01-10T00:00:00",
          "2021-01-17T00:00:00",
          "2021-01-24T00:00:00",
          "2021-01-31T00:00:00",
          "2021-02-07T00:00:00",
          "2021-02-14T00:00:00",
          "2021-02-21T00:00:00",
          "2021-02-28T00:00:00",
          "2021-03-07T00:00:00",
          "2021-03-14T00:00:00",
          "2021-03-21T00:00:00",
          "2021-03-28T00:00:00",
          "2021-04-04T00:00:00",
          "2021-04-11T00:00:00",
          "2021-04-18T00:00:00",
          "2021-04-25T00:00:00",
          "2021-05-02T00:00:00",
          "2021-05-09T00:00:00",
          "2021-05-16T00:00:00",
          "2021-05-23T00:00:00",
          "2021-05-30T00:00:00",
          "2021-06-06T00:00:00",
          "2021-06-13T00:00:00",
          "2021-06-20T00:00:00",
          "2021-06-27T00:00:00",
          "2021-07-04T00:00:00",
          "2021-07-11T00:00:00",
          "2021-07-18T00:00:00",
          "2021-07-25T00:00:00",
          "2021-08-01T00:00:00",
          "2021-08-08T00:00:00",
          "2021-08-15T00:00:00",
          "2021-08-22T00:00:00",
          "2021-08-29T00:00:00",
          "2021-09-05T00:00:00",
          "2021-09-12T00:00:00",
          "2021-09-19T00:00:00",
          "2021-09-26T00:00:00",
          "2021-10-03T00:00:00",
          "2021-10-10T00:00:00",
          "2021-10-17T00:00:00",
          "2021-10-24T00:00:00",
          "2021-10-31T00:00:00"
         ],
         "xaxis": "x",
         "y": [
          283.8863780684115,
          336.1476070517958,
          388.40883603518006,
          440.6700650185644,
          492.9312940019487,
          545.192522985333,
          597.4537519687173,
          649.7149809521015,
          701.9762099354858,
          754.2374389188701,
          806.4986679022545,
          858.7598968856388,
          911.0211258690231,
          963.2823548524074,
          1015.5435838357917,
          1067.804812819176,
          511.6377251131942,
          516.6854336215598,
          521.7331421299251,
          526.7808506382908,
          531.8285591466561,
          536.8762676550216,
          541.9239761633872,
          546.9716846717525,
          552.0193931801181,
          557.0671016884835,
          562.114810196849,
          567.1625187052143,
          572.21022721358,
          577.2579357219453,
          582.3056442303109,
          587.3533527386764,
          592.4010612470418,
          597.4487697554074,
          602.4964782637729,
          607.5441867721383,
          612.5918952805036,
          617.639603788869,
          622.6873122972348,
          627.7350208056001,
          632.7827293139654,
          637.8304378223313,
          642.8781463306966,
          647.9258548390619,
          652.9735633474273,
          658.0212718557931,
          663.0689803641585,
          668.1166888725238,
          673.1643973808896,
          678.212105889255,
          683.2598143976203,
          688.3075229059857,
          693.3552314143515,
          698.4029399227168,
          703.4506484310822,
          708.498356939448,
          713.5460654478132,
          718.5937739561787
         ],
         "yaxis": "y"
        }
       ],
       "layout": {
        "legend": {
         "title": {
          "text": "variable"
         },
         "tracegroupgap": 0
        },
        "shapes": [
         {
          "line": {
           "color": "red",
           "dash": "dash",
           "width": 1
          },
          "type": "line",
          "x0": "2021-01-13T00:00:00",
          "x1": "2021-01-13T00:00:00",
          "xref": "x",
          "y0": 0,
          "y1": 1,
          "yref": "y domain"
         }
        ],
        "template": {
         "data": {
          "bar": [
           {
            "error_x": {
             "color": "#2a3f5f"
            },
            "error_y": {
             "color": "#2a3f5f"
            },
            "marker": {
             "line": {
              "color": "#E5ECF6",
              "width": 0.5
             },
             "pattern": {
              "fillmode": "overlay",
              "size": 10,
              "solidity": 0.2
             }
            },
            "type": "bar"
           }
          ],
          "barpolar": [
           {
            "marker": {
             "line": {
              "color": "#E5ECF6",
              "width": 0.5
             },
             "pattern": {
              "fillmode": "overlay",
              "size": 10,
              "solidity": 0.2
             }
            },
            "type": "barpolar"
           }
          ],
          "carpet": [
           {
            "aaxis": {
             "endlinecolor": "#2a3f5f",
             "gridcolor": "white",
             "linecolor": "white",
             "minorgridcolor": "white",
             "startlinecolor": "#2a3f5f"
            },
            "baxis": {
             "endlinecolor": "#2a3f5f",
             "gridcolor": "white",
             "linecolor": "white",
             "minorgridcolor": "white",
             "startlinecolor": "#2a3f5f"
            },
            "type": "carpet"
           }
          ],
          "choropleth": [
           {
            "colorbar": {
             "outlinewidth": 0,
             "ticks": ""
            },
            "type": "choropleth"
           }
          ],
          "contour": [
           {
            "colorbar": {
             "outlinewidth": 0,
             "ticks": ""
            },
            "colorscale": [
             [
              0,
              "#0d0887"
             ],
             [
              0.1111111111111111,
              "#46039f"
             ],
             [
              0.2222222222222222,
              "#7201a8"
             ],
             [
              0.3333333333333333,
              "#9c179e"
             ],
             [
              0.4444444444444444,
              "#bd3786"
             ],
             [
              0.5555555555555556,
              "#d8576b"
             ],
             [
              0.6666666666666666,
              "#ed7953"
             ],
             [
              0.7777777777777778,
              "#fb9f3a"
             ],
             [
              0.8888888888888888,
              "#fdca26"
             ],
             [
              1,
              "#f0f921"
             ]
            ],
            "type": "contour"
           }
          ],
          "contourcarpet": [
           {
            "colorbar": {
             "outlinewidth": 0,
             "ticks": ""
            },
            "type": "contourcarpet"
           }
          ],
          "heatmap": [
           {
            "colorbar": {
             "outlinewidth": 0,
             "ticks": ""
            },
            "colorscale": [
             [
              0,
              "#0d0887"
             ],
             [
              0.1111111111111111,
              "#46039f"
             ],
             [
              0.2222222222222222,
              "#7201a8"
             ],
             [
              0.3333333333333333,
              "#9c179e"
             ],
             [
              0.4444444444444444,
              "#bd3786"
             ],
             [
              0.5555555555555556,
              "#d8576b"
             ],
             [
              0.6666666666666666,
              "#ed7953"
             ],
             [
              0.7777777777777778,
              "#fb9f3a"
             ],
             [
              0.8888888888888888,
              "#fdca26"
             ],
             [
              1,
              "#f0f921"
             ]
            ],
            "type": "heatmap"
           }
          ],
          "heatmapgl": [
           {
            "colorbar": {
             "outlinewidth": 0,
             "ticks": ""
            },
            "colorscale": [
             [
              0,
              "#0d0887"
             ],
             [
              0.1111111111111111,
              "#46039f"
             ],
             [
              0.2222222222222222,
              "#7201a8"
             ],
             [
              0.3333333333333333,
              "#9c179e"
             ],
             [
              0.4444444444444444,
              "#bd3786"
             ],
             [
              0.5555555555555556,
              "#d8576b"
             ],
             [
              0.6666666666666666,
              "#ed7953"
             ],
             [
              0.7777777777777778,
              "#fb9f3a"
             ],
             [
              0.8888888888888888,
              "#fdca26"
             ],
             [
              1,
              "#f0f921"
             ]
            ],
            "type": "heatmapgl"
           }
          ],
          "histogram": [
           {
            "marker": {
             "pattern": {
              "fillmode": "overlay",
              "size": 10,
              "solidity": 0.2
             }
            },
            "type": "histogram"
           }
          ],
          "histogram2d": [
           {
            "colorbar": {
             "outlinewidth": 0,
             "ticks": ""
            },
            "colorscale": [
             [
              0,
              "#0d0887"
             ],
             [
              0.1111111111111111,
              "#46039f"
             ],
             [
              0.2222222222222222,
              "#7201a8"
             ],
             [
              0.3333333333333333,
              "#9c179e"
             ],
             [
              0.4444444444444444,
              "#bd3786"
             ],
             [
              0.5555555555555556,
              "#d8576b"
             ],
             [
              0.6666666666666666,
              "#ed7953"
             ],
             [
              0.7777777777777778,
              "#fb9f3a"
             ],
             [
              0.8888888888888888,
              "#fdca26"
             ],
             [
              1,
              "#f0f921"
             ]
            ],
            "type": "histogram2d"
           }
          ],
          "histogram2dcontour": [
           {
            "colorbar": {
             "outlinewidth": 0,
             "ticks": ""
            },
            "colorscale": [
             [
              0,
              "#0d0887"
             ],
             [
              0.1111111111111111,
              "#46039f"
             ],
             [
              0.2222222222222222,
              "#7201a8"
             ],
             [
              0.3333333333333333,
              "#9c179e"
             ],
             [
              0.4444444444444444,
              "#bd3786"
             ],
             [
              0.5555555555555556,
              "#d8576b"
             ],
             [
              0.6666666666666666,
              "#ed7953"
             ],
             [
              0.7777777777777778,
              "#fb9f3a"
             ],
             [
              0.8888888888888888,
              "#fdca26"
             ],
             [
              1,
              "#f0f921"
             ]
            ],
            "type": "histogram2dcontour"
           }
          ],
          "mesh3d": [
           {
            "colorbar": {
             "outlinewidth": 0,
             "ticks": ""
            },
            "type": "mesh3d"
           }
          ],
          "parcoords": [
           {
            "line": {
             "colorbar": {
              "outlinewidth": 0,
              "ticks": ""
             }
            },
            "type": "parcoords"
           }
          ],
          "pie": [
           {
            "automargin": true,
            "type": "pie"
           }
          ],
          "scatter": [
           {
            "marker": {
             "colorbar": {
              "outlinewidth": 0,
              "ticks": ""
             }
            },
            "type": "scatter"
           }
          ],
          "scatter3d": [
           {
            "line": {
             "colorbar": {
              "outlinewidth": 0,
              "ticks": ""
             }
            },
            "marker": {
             "colorbar": {
              "outlinewidth": 0,
              "ticks": ""
             }
            },
            "type": "scatter3d"
           }
          ],
          "scattercarpet": [
           {
            "marker": {
             "colorbar": {
              "outlinewidth": 0,
              "ticks": ""
             }
            },
            "type": "scattercarpet"
           }
          ],
          "scattergeo": [
           {
            "marker": {
             "colorbar": {
              "outlinewidth": 0,
              "ticks": ""
             }
            },
            "type": "scattergeo"
           }
          ],
          "scattergl": [
           {
            "marker": {
             "colorbar": {
              "outlinewidth": 0,
              "ticks": ""
             }
            },
            "type": "scattergl"
           }
          ],
          "scattermapbox": [
           {
            "marker": {
             "colorbar": {
              "outlinewidth": 0,
              "ticks": ""
             }
            },
            "type": "scattermapbox"
           }
          ],
          "scatterpolar": [
           {
            "marker": {
             "colorbar": {
              "outlinewidth": 0,
              "ticks": ""
             }
            },
            "type": "scatterpolar"
           }
          ],
          "scatterpolargl": [
           {
            "marker": {
             "colorbar": {
              "outlinewidth": 0,
              "ticks": ""
             }
            },
            "type": "scatterpolargl"
           }
          ],
          "scatterternary": [
           {
            "marker": {
             "colorbar": {
              "outlinewidth": 0,
              "ticks": ""
             }
            },
            "type": "scatterternary"
           }
          ],
          "surface": [
           {
            "colorbar": {
             "outlinewidth": 0,
             "ticks": ""
            },
            "colorscale": [
             [
              0,
              "#0d0887"
             ],
             [
              0.1111111111111111,
              "#46039f"
             ],
             [
              0.2222222222222222,
              "#7201a8"
             ],
             [
              0.3333333333333333,
              "#9c179e"
             ],
             [
              0.4444444444444444,
              "#bd3786"
             ],
             [
              0.5555555555555556,
              "#d8576b"
             ],
             [
              0.6666666666666666,
              "#ed7953"
             ],
             [
              0.7777777777777778,
              "#fb9f3a"
             ],
             [
              0.8888888888888888,
              "#fdca26"
             ],
             [
              1,
              "#f0f921"
             ]
            ],
            "type": "surface"
           }
          ],
          "table": [
           {
            "cells": {
             "fill": {
              "color": "#EBF0F8"
             },
             "line": {
              "color": "white"
             }
            },
            "header": {
             "fill": {
              "color": "#C8D4E3"
             },
             "line": {
              "color": "white"
             }
            },
            "type": "table"
           }
          ]
         },
         "layout": {
          "annotationdefaults": {
           "arrowcolor": "#2a3f5f",
           "arrowhead": 0,
           "arrowwidth": 1
          },
          "autotypenumbers": "strict",
          "coloraxis": {
           "colorbar": {
            "outlinewidth": 0,
            "ticks": ""
           }
          },
          "colorscale": {
           "diverging": [
            [
             0,
             "#8e0152"
            ],
            [
             0.1,
             "#c51b7d"
            ],
            [
             0.2,
             "#de77ae"
            ],
            [
             0.3,
             "#f1b6da"
            ],
            [
             0.4,
             "#fde0ef"
            ],
            [
             0.5,
             "#f7f7f7"
            ],
            [
             0.6,
             "#e6f5d0"
            ],
            [
             0.7,
             "#b8e186"
            ],
            [
             0.8,
             "#7fbc41"
            ],
            [
             0.9,
             "#4d9221"
            ],
            [
             1,
             "#276419"
            ]
           ],
           "sequential": [
            [
             0,
             "#0d0887"
            ],
            [
             0.1111111111111111,
             "#46039f"
            ],
            [
             0.2222222222222222,
             "#7201a8"
            ],
            [
             0.3333333333333333,
             "#9c179e"
            ],
            [
             0.4444444444444444,
             "#bd3786"
            ],
            [
             0.5555555555555556,
             "#d8576b"
            ],
            [
             0.6666666666666666,
             "#ed7953"
            ],
            [
             0.7777777777777778,
             "#fb9f3a"
            ],
            [
             0.8888888888888888,
             "#fdca26"
            ],
            [
             1,
             "#f0f921"
            ]
           ],
           "sequentialminus": [
            [
             0,
             "#0d0887"
            ],
            [
             0.1111111111111111,
             "#46039f"
            ],
            [
             0.2222222222222222,
             "#7201a8"
            ],
            [
             0.3333333333333333,
             "#9c179e"
            ],
            [
             0.4444444444444444,
             "#bd3786"
            ],
            [
             0.5555555555555556,
             "#d8576b"
            ],
            [
             0.6666666666666666,
             "#ed7953"
            ],
            [
             0.7777777777777778,
             "#fb9f3a"
            ],
            [
             0.8888888888888888,
             "#fdca26"
            ],
            [
             1,
             "#f0f921"
            ]
           ]
          },
          "colorway": [
           "#636efa",
           "#EF553B",
           "#00cc96",
           "#ab63fa",
           "#FFA15A",
           "#19d3f3",
           "#FF6692",
           "#B6E880",
           "#FF97FF",
           "#FECB52"
          ],
          "font": {
           "color": "#2a3f5f"
          },
          "geo": {
           "bgcolor": "white",
           "lakecolor": "white",
           "landcolor": "#E5ECF6",
           "showlakes": true,
           "showland": true,
           "subunitcolor": "white"
          },
          "hoverlabel": {
           "align": "left"
          },
          "hovermode": "closest",
          "mapbox": {
           "style": "light"
          },
          "paper_bgcolor": "white",
          "plot_bgcolor": "#E5ECF6",
          "polar": {
           "angularaxis": {
            "gridcolor": "white",
            "linecolor": "white",
            "ticks": ""
           },
           "bgcolor": "#E5ECF6",
           "radialaxis": {
            "gridcolor": "white",
            "linecolor": "white",
            "ticks": ""
           }
          },
          "scene": {
           "xaxis": {
            "backgroundcolor": "#E5ECF6",
            "gridcolor": "white",
            "gridwidth": 2,
            "linecolor": "white",
            "showbackground": true,
            "ticks": "",
            "zerolinecolor": "white"
           },
           "yaxis": {
            "backgroundcolor": "#E5ECF6",
            "gridcolor": "white",
            "gridwidth": 2,
            "linecolor": "white",
            "showbackground": true,
            "ticks": "",
            "zerolinecolor": "white"
           },
           "zaxis": {
            "backgroundcolor": "#E5ECF6",
            "gridcolor": "white",
            "gridwidth": 2,
            "linecolor": "white",
            "showbackground": true,
            "ticks": "",
            "zerolinecolor": "white"
           }
          },
          "shapedefaults": {
           "line": {
            "color": "#2a3f5f"
           }
          },
          "ternary": {
           "aaxis": {
            "gridcolor": "white",
            "linecolor": "white",
            "ticks": ""
           },
           "baxis": {
            "gridcolor": "white",
            "linecolor": "white",
            "ticks": ""
           },
           "bgcolor": "#E5ECF6",
           "caxis": {
            "gridcolor": "white",
            "linecolor": "white",
            "ticks": ""
           }
          },
          "title": {
           "x": 0.05
          },
          "xaxis": {
           "automargin": true,
           "gridcolor": "white",
           "linecolor": "white",
           "ticks": "",
           "title": {
            "standoff": 15
           },
           "zerolinecolor": "white",
           "zerolinewidth": 2
          },
          "yaxis": {
           "automargin": true,
           "gridcolor": "white",
           "linecolor": "white",
           "ticks": "",
           "title": {
            "standoff": 15
           },
           "zerolinecolor": "white",
           "zerolinewidth": 2
          }
         }
        },
        "title": {
         "text": "Affirm - Dissimilar regression After IPO"
        },
        "xaxis": {
         "anchor": "y",
         "domain": [
          0,
          1
         ],
         "title": {
          "text": "Time since founding"
         }
        },
        "yaxis": {
         "anchor": "x",
         "domain": [
          0,
          1
         ],
         "title": {
          "text": "value"
         }
        }
       }
      }
     },
     "metadata": {},
     "output_type": "display_data"
    },
    {
     "name": "stdout",
     "output_type": "stream",
     "text": [
      "0.0007003038867565792 1.1654342370134119 -1.423442517864385 49.368780444644464 -14.46727319616283 -63.83605364080729\n"
     ]
    },
    {
     "data": {
      "application/vnd.plotly.v1+json": {
       "config": {
        "plotlyServerURL": "https://plot.ly"
       },
       "data": [
        {
         "hovertemplate": "variable=/g/11f006dwxx_no_seasonality<br>Time since founding=%{x}<br>value=%{y}<extra></extra>",
         "legendgroup": "/g/11f006dwxx_no_seasonality",
         "line": {
          "color": "#636efa",
          "dash": "solid"
         },
         "marker": {
          "symbol": "circle"
         },
         "mode": "lines",
         "name": "/g/11f006dwxx_no_seasonality",
         "orientation": "v",
         "showlegend": true,
         "type": "scatter",
         "x": [
          "2017-07-30T00:00:00",
          "2017-08-06T00:00:00",
          "2017-08-13T00:00:00",
          "2017-08-20T00:00:00",
          "2017-08-27T00:00:00",
          "2017-09-03T00:00:00",
          "2017-09-10T00:00:00",
          "2017-09-17T00:00:00",
          "2017-09-24T00:00:00",
          "2017-10-01T00:00:00",
          "2017-10-08T00:00:00",
          "2017-10-15T00:00:00",
          "2017-10-22T00:00:00",
          "2017-10-29T00:00:00",
          "2017-11-05T00:00:00",
          "2017-11-12T00:00:00",
          "2017-11-19T00:00:00",
          "2017-11-26T00:00:00",
          "2017-12-03T00:00:00",
          "2017-12-10T00:00:00",
          "2017-12-17T00:00:00",
          "2017-12-24T00:00:00",
          "2017-12-31T00:00:00",
          "2018-01-07T00:00:00",
          "2018-01-14T00:00:00",
          "2018-01-21T00:00:00",
          "2018-01-28T00:00:00",
          "2018-02-04T00:00:00",
          "2018-02-11T00:00:00",
          "2018-02-18T00:00:00",
          "2018-02-25T00:00:00",
          "2018-03-04T00:00:00",
          "2018-03-11T00:00:00",
          "2018-03-18T00:00:00",
          "2018-03-25T00:00:00",
          "2018-04-01T00:00:00",
          "2018-04-08T00:00:00",
          "2018-04-15T00:00:00",
          "2018-04-22T00:00:00",
          "2018-04-29T00:00:00",
          "2018-05-06T00:00:00",
          "2018-05-13T00:00:00",
          "2018-05-20T00:00:00",
          "2018-05-27T00:00:00",
          "2018-06-03T00:00:00",
          "2018-06-10T00:00:00",
          "2018-06-17T00:00:00",
          "2018-06-24T00:00:00",
          "2018-07-01T00:00:00",
          "2018-07-08T00:00:00",
          "2018-07-15T00:00:00",
          "2018-07-22T00:00:00",
          "2018-07-29T00:00:00",
          "2018-08-05T00:00:00",
          "2018-08-12T00:00:00",
          "2018-08-19T00:00:00",
          "2018-08-26T00:00:00",
          "2018-09-02T00:00:00"
         ],
         "xaxis": "x",
         "y": [
          5,
          13,
          11,
          7,
          9,
          9,
          11,
          13,
          9,
          15,
          20,
          18,
          17,
          13,
          21,
          71,
          27,
          15,
          31,
          13,
          24,
          21,
          20.25,
          19.5,
          18.75,
          18,
          23,
          14,
          14,
          22,
          26,
          14,
          10,
          4,
          4,
          12,
          10,
          14,
          18,
          8,
          10,
          16,
          12,
          23,
          12,
          34,
          12,
          14,
          10,
          22,
          17,
          17,
          14,
          12,
          18,
          16,
          20,
          12
         ],
         "yaxis": "y"
        },
        {
         "hovertemplate": "variable=unrestricted<br>Time since founding=%{x}<br>value=%{y}<extra></extra>",
         "legendgroup": "unrestricted",
         "line": {
          "color": "#EF553B",
          "dash": "solid"
         },
         "marker": {
          "symbol": "circle"
         },
         "mode": "lines",
         "name": "unrestricted",
         "orientation": "v",
         "showlegend": true,
         "type": "scatter",
         "x": [
          "2017-07-30T00:00:00",
          "2017-08-06T00:00:00",
          "2017-08-13T00:00:00",
          "2017-08-20T00:00:00",
          "2017-08-27T00:00:00",
          "2017-09-03T00:00:00",
          "2017-09-10T00:00:00",
          "2017-09-17T00:00:00",
          "2017-09-24T00:00:00",
          "2017-10-01T00:00:00",
          "2017-10-08T00:00:00",
          "2017-10-15T00:00:00",
          "2017-10-22T00:00:00",
          "2017-10-29T00:00:00",
          "2017-11-05T00:00:00",
          "2017-11-12T00:00:00",
          "2017-11-19T00:00:00",
          "2017-11-26T00:00:00",
          "2017-12-03T00:00:00",
          "2017-12-10T00:00:00",
          "2017-12-17T00:00:00",
          "2017-12-24T00:00:00",
          "2017-12-31T00:00:00",
          "2018-01-07T00:00:00",
          "2018-01-14T00:00:00",
          "2018-01-21T00:00:00",
          "2018-01-28T00:00:00",
          "2018-02-04T00:00:00",
          "2018-02-11T00:00:00",
          "2018-02-18T00:00:00",
          "2018-02-25T00:00:00",
          "2018-03-04T00:00:00",
          "2018-03-11T00:00:00",
          "2018-03-18T00:00:00",
          "2018-03-25T00:00:00",
          "2018-04-01T00:00:00",
          "2018-04-08T00:00:00",
          "2018-04-15T00:00:00",
          "2018-04-22T00:00:00",
          "2018-04-29T00:00:00",
          "2018-05-06T00:00:00",
          "2018-05-13T00:00:00",
          "2018-05-20T00:00:00",
          "2018-05-27T00:00:00",
          "2018-06-03T00:00:00",
          "2018-06-10T00:00:00",
          "2018-06-17T00:00:00",
          "2018-06-24T00:00:00",
          "2018-07-01T00:00:00",
          "2018-07-08T00:00:00",
          "2018-07-15T00:00:00",
          "2018-07-22T00:00:00",
          "2018-07-29T00:00:00",
          "2018-08-05T00:00:00",
          "2018-08-12T00:00:00",
          "2018-08-19T00:00:00",
          "2018-08-26T00:00:00",
          "2018-09-02T00:00:00"
         ],
         "xaxis": "x",
         "y": [
          5.38630689393742,
          6.551741130950832,
          7.717175367964244,
          8.882609604977656,
          10.048043841991067,
          11.21347807900448,
          12.378912316017892,
          13.544346553031303,
          14.709780790044714,
          15.875215027058127,
          17.04064926407154,
          18.20608350108495,
          19.371517738098362,
          20.536951975111776,
          21.702386212125187,
          22.8678204491386,
          22.609812168287625,
          22.35180388743665,
          22.09379560658568,
          21.835787325734707,
          21.57777904488373,
          21.31977076403276,
          21.061762483181788,
          20.803754202330815,
          20.545745921479842,
          20.287737640628865,
          20.029729359777896,
          19.771721078926916,
          19.513712798075947,
          19.255704517224977,
          18.997696236373997,
          18.739687955523028,
          18.48167967467206,
          18.22367139382108,
          17.96566311297011,
          17.70765483211914,
          17.44964655126816,
          17.19163827041719,
          16.933629989566214,
          16.67562170871524,
          16.41761342786427,
          16.159605147013295,
          15.901596866162324,
          15.643588585311345,
          15.385580304460376,
          15.127572023609405,
          14.869563742758428,
          14.611555461907457,
          14.353547181056486,
          14.09553890020551,
          13.837530619354538,
          13.579522338503569,
          13.321514057652598,
          13.063505776801613,
          12.805497495950643,
          12.547489215099672,
          12.2894809342487,
          12.031472653397731
         ],
         "yaxis": "y"
        }
       ],
       "layout": {
        "legend": {
         "title": {
          "text": "variable"
         },
         "tracegroupgap": 0
        },
        "shapes": [
         {
          "line": {
           "color": "red",
           "dash": "dash",
           "width": 1
          },
          "type": "line",
          "x0": "2017-11-13T00:00:00",
          "x1": "2017-11-13T00:00:00",
          "xref": "x",
          "y0": 0,
          "y1": 1,
          "yref": "y domain"
         }
        ],
        "template": {
         "data": {
          "bar": [
           {
            "error_x": {
             "color": "#2a3f5f"
            },
            "error_y": {
             "color": "#2a3f5f"
            },
            "marker": {
             "line": {
              "color": "#E5ECF6",
              "width": 0.5
             },
             "pattern": {
              "fillmode": "overlay",
              "size": 10,
              "solidity": 0.2
             }
            },
            "type": "bar"
           }
          ],
          "barpolar": [
           {
            "marker": {
             "line": {
              "color": "#E5ECF6",
              "width": 0.5
             },
             "pattern": {
              "fillmode": "overlay",
              "size": 10,
              "solidity": 0.2
             }
            },
            "type": "barpolar"
           }
          ],
          "carpet": [
           {
            "aaxis": {
             "endlinecolor": "#2a3f5f",
             "gridcolor": "white",
             "linecolor": "white",
             "minorgridcolor": "white",
             "startlinecolor": "#2a3f5f"
            },
            "baxis": {
             "endlinecolor": "#2a3f5f",
             "gridcolor": "white",
             "linecolor": "white",
             "minorgridcolor": "white",
             "startlinecolor": "#2a3f5f"
            },
            "type": "carpet"
           }
          ],
          "choropleth": [
           {
            "colorbar": {
             "outlinewidth": 0,
             "ticks": ""
            },
            "type": "choropleth"
           }
          ],
          "contour": [
           {
            "colorbar": {
             "outlinewidth": 0,
             "ticks": ""
            },
            "colorscale": [
             [
              0,
              "#0d0887"
             ],
             [
              0.1111111111111111,
              "#46039f"
             ],
             [
              0.2222222222222222,
              "#7201a8"
             ],
             [
              0.3333333333333333,
              "#9c179e"
             ],
             [
              0.4444444444444444,
              "#bd3786"
             ],
             [
              0.5555555555555556,
              "#d8576b"
             ],
             [
              0.6666666666666666,
              "#ed7953"
             ],
             [
              0.7777777777777778,
              "#fb9f3a"
             ],
             [
              0.8888888888888888,
              "#fdca26"
             ],
             [
              1,
              "#f0f921"
             ]
            ],
            "type": "contour"
           }
          ],
          "contourcarpet": [
           {
            "colorbar": {
             "outlinewidth": 0,
             "ticks": ""
            },
            "type": "contourcarpet"
           }
          ],
          "heatmap": [
           {
            "colorbar": {
             "outlinewidth": 0,
             "ticks": ""
            },
            "colorscale": [
             [
              0,
              "#0d0887"
             ],
             [
              0.1111111111111111,
              "#46039f"
             ],
             [
              0.2222222222222222,
              "#7201a8"
             ],
             [
              0.3333333333333333,
              "#9c179e"
             ],
             [
              0.4444444444444444,
              "#bd3786"
             ],
             [
              0.5555555555555556,
              "#d8576b"
             ],
             [
              0.6666666666666666,
              "#ed7953"
             ],
             [
              0.7777777777777778,
              "#fb9f3a"
             ],
             [
              0.8888888888888888,
              "#fdca26"
             ],
             [
              1,
              "#f0f921"
             ]
            ],
            "type": "heatmap"
           }
          ],
          "heatmapgl": [
           {
            "colorbar": {
             "outlinewidth": 0,
             "ticks": ""
            },
            "colorscale": [
             [
              0,
              "#0d0887"
             ],
             [
              0.1111111111111111,
              "#46039f"
             ],
             [
              0.2222222222222222,
              "#7201a8"
             ],
             [
              0.3333333333333333,
              "#9c179e"
             ],
             [
              0.4444444444444444,
              "#bd3786"
             ],
             [
              0.5555555555555556,
              "#d8576b"
             ],
             [
              0.6666666666666666,
              "#ed7953"
             ],
             [
              0.7777777777777778,
              "#fb9f3a"
             ],
             [
              0.8888888888888888,
              "#fdca26"
             ],
             [
              1,
              "#f0f921"
             ]
            ],
            "type": "heatmapgl"
           }
          ],
          "histogram": [
           {
            "marker": {
             "pattern": {
              "fillmode": "overlay",
              "size": 10,
              "solidity": 0.2
             }
            },
            "type": "histogram"
           }
          ],
          "histogram2d": [
           {
            "colorbar": {
             "outlinewidth": 0,
             "ticks": ""
            },
            "colorscale": [
             [
              0,
              "#0d0887"
             ],
             [
              0.1111111111111111,
              "#46039f"
             ],
             [
              0.2222222222222222,
              "#7201a8"
             ],
             [
              0.3333333333333333,
              "#9c179e"
             ],
             [
              0.4444444444444444,
              "#bd3786"
             ],
             [
              0.5555555555555556,
              "#d8576b"
             ],
             [
              0.6666666666666666,
              "#ed7953"
             ],
             [
              0.7777777777777778,
              "#fb9f3a"
             ],
             [
              0.8888888888888888,
              "#fdca26"
             ],
             [
              1,
              "#f0f921"
             ]
            ],
            "type": "histogram2d"
           }
          ],
          "histogram2dcontour": [
           {
            "colorbar": {
             "outlinewidth": 0,
             "ticks": ""
            },
            "colorscale": [
             [
              0,
              "#0d0887"
             ],
             [
              0.1111111111111111,
              "#46039f"
             ],
             [
              0.2222222222222222,
              "#7201a8"
             ],
             [
              0.3333333333333333,
              "#9c179e"
             ],
             [
              0.4444444444444444,
              "#bd3786"
             ],
             [
              0.5555555555555556,
              "#d8576b"
             ],
             [
              0.6666666666666666,
              "#ed7953"
             ],
             [
              0.7777777777777778,
              "#fb9f3a"
             ],
             [
              0.8888888888888888,
              "#fdca26"
             ],
             [
              1,
              "#f0f921"
             ]
            ],
            "type": "histogram2dcontour"
           }
          ],
          "mesh3d": [
           {
            "colorbar": {
             "outlinewidth": 0,
             "ticks": ""
            },
            "type": "mesh3d"
           }
          ],
          "parcoords": [
           {
            "line": {
             "colorbar": {
              "outlinewidth": 0,
              "ticks": ""
             }
            },
            "type": "parcoords"
           }
          ],
          "pie": [
           {
            "automargin": true,
            "type": "pie"
           }
          ],
          "scatter": [
           {
            "marker": {
             "colorbar": {
              "outlinewidth": 0,
              "ticks": ""
             }
            },
            "type": "scatter"
           }
          ],
          "scatter3d": [
           {
            "line": {
             "colorbar": {
              "outlinewidth": 0,
              "ticks": ""
             }
            },
            "marker": {
             "colorbar": {
              "outlinewidth": 0,
              "ticks": ""
             }
            },
            "type": "scatter3d"
           }
          ],
          "scattercarpet": [
           {
            "marker": {
             "colorbar": {
              "outlinewidth": 0,
              "ticks": ""
             }
            },
            "type": "scattercarpet"
           }
          ],
          "scattergeo": [
           {
            "marker": {
             "colorbar": {
              "outlinewidth": 0,
              "ticks": ""
             }
            },
            "type": "scattergeo"
           }
          ],
          "scattergl": [
           {
            "marker": {
             "colorbar": {
              "outlinewidth": 0,
              "ticks": ""
             }
            },
            "type": "scattergl"
           }
          ],
          "scattermapbox": [
           {
            "marker": {
             "colorbar": {
              "outlinewidth": 0,
              "ticks": ""
             }
            },
            "type": "scattermapbox"
           }
          ],
          "scatterpolar": [
           {
            "marker": {
             "colorbar": {
              "outlinewidth": 0,
              "ticks": ""
             }
            },
            "type": "scatterpolar"
           }
          ],
          "scatterpolargl": [
           {
            "marker": {
             "colorbar": {
              "outlinewidth": 0,
              "ticks": ""
             }
            },
            "type": "scatterpolargl"
           }
          ],
          "scatterternary": [
           {
            "marker": {
             "colorbar": {
              "outlinewidth": 0,
              "ticks": ""
             }
            },
            "type": "scatterternary"
           }
          ],
          "surface": [
           {
            "colorbar": {
             "outlinewidth": 0,
             "ticks": ""
            },
            "colorscale": [
             [
              0,
              "#0d0887"
             ],
             [
              0.1111111111111111,
              "#46039f"
             ],
             [
              0.2222222222222222,
              "#7201a8"
             ],
             [
              0.3333333333333333,
              "#9c179e"
             ],
             [
              0.4444444444444444,
              "#bd3786"
             ],
             [
              0.5555555555555556,
              "#d8576b"
             ],
             [
              0.6666666666666666,
              "#ed7953"
             ],
             [
              0.7777777777777778,
              "#fb9f3a"
             ],
             [
              0.8888888888888888,
              "#fdca26"
             ],
             [
              1,
              "#f0f921"
             ]
            ],
            "type": "surface"
           }
          ],
          "table": [
           {
            "cells": {
             "fill": {
              "color": "#EBF0F8"
             },
             "line": {
              "color": "white"
             }
            },
            "header": {
             "fill": {
              "color": "#C8D4E3"
             },
             "line": {
              "color": "white"
             }
            },
            "type": "table"
           }
          ]
         },
         "layout": {
          "annotationdefaults": {
           "arrowcolor": "#2a3f5f",
           "arrowhead": 0,
           "arrowwidth": 1
          },
          "autotypenumbers": "strict",
          "coloraxis": {
           "colorbar": {
            "outlinewidth": 0,
            "ticks": ""
           }
          },
          "colorscale": {
           "diverging": [
            [
             0,
             "#8e0152"
            ],
            [
             0.1,
             "#c51b7d"
            ],
            [
             0.2,
             "#de77ae"
            ],
            [
             0.3,
             "#f1b6da"
            ],
            [
             0.4,
             "#fde0ef"
            ],
            [
             0.5,
             "#f7f7f7"
            ],
            [
             0.6,
             "#e6f5d0"
            ],
            [
             0.7,
             "#b8e186"
            ],
            [
             0.8,
             "#7fbc41"
            ],
            [
             0.9,
             "#4d9221"
            ],
            [
             1,
             "#276419"
            ]
           ],
           "sequential": [
            [
             0,
             "#0d0887"
            ],
            [
             0.1111111111111111,
             "#46039f"
            ],
            [
             0.2222222222222222,
             "#7201a8"
            ],
            [
             0.3333333333333333,
             "#9c179e"
            ],
            [
             0.4444444444444444,
             "#bd3786"
            ],
            [
             0.5555555555555556,
             "#d8576b"
            ],
            [
             0.6666666666666666,
             "#ed7953"
            ],
            [
             0.7777777777777778,
             "#fb9f3a"
            ],
            [
             0.8888888888888888,
             "#fdca26"
            ],
            [
             1,
             "#f0f921"
            ]
           ],
           "sequentialminus": [
            [
             0,
             "#0d0887"
            ],
            [
             0.1111111111111111,
             "#46039f"
            ],
            [
             0.2222222222222222,
             "#7201a8"
            ],
            [
             0.3333333333333333,
             "#9c179e"
            ],
            [
             0.4444444444444444,
             "#bd3786"
            ],
            [
             0.5555555555555556,
             "#d8576b"
            ],
            [
             0.6666666666666666,
             "#ed7953"
            ],
            [
             0.7777777777777778,
             "#fb9f3a"
            ],
            [
             0.8888888888888888,
             "#fdca26"
            ],
            [
             1,
             "#f0f921"
            ]
           ]
          },
          "colorway": [
           "#636efa",
           "#EF553B",
           "#00cc96",
           "#ab63fa",
           "#FFA15A",
           "#19d3f3",
           "#FF6692",
           "#B6E880",
           "#FF97FF",
           "#FECB52"
          ],
          "font": {
           "color": "#2a3f5f"
          },
          "geo": {
           "bgcolor": "white",
           "lakecolor": "white",
           "landcolor": "#E5ECF6",
           "showlakes": true,
           "showland": true,
           "subunitcolor": "white"
          },
          "hoverlabel": {
           "align": "left"
          },
          "hovermode": "closest",
          "mapbox": {
           "style": "light"
          },
          "paper_bgcolor": "white",
          "plot_bgcolor": "#E5ECF6",
          "polar": {
           "angularaxis": {
            "gridcolor": "white",
            "linecolor": "white",
            "ticks": ""
           },
           "bgcolor": "#E5ECF6",
           "radialaxis": {
            "gridcolor": "white",
            "linecolor": "white",
            "ticks": ""
           }
          },
          "scene": {
           "xaxis": {
            "backgroundcolor": "#E5ECF6",
            "gridcolor": "white",
            "gridwidth": 2,
            "linecolor": "white",
            "showbackground": true,
            "ticks": "",
            "zerolinecolor": "white"
           },
           "yaxis": {
            "backgroundcolor": "#E5ECF6",
            "gridcolor": "white",
            "gridwidth": 2,
            "linecolor": "white",
            "showbackground": true,
            "ticks": "",
            "zerolinecolor": "white"
           },
           "zaxis": {
            "backgroundcolor": "#E5ECF6",
            "gridcolor": "white",
            "gridwidth": 2,
            "linecolor": "white",
            "showbackground": true,
            "ticks": "",
            "zerolinecolor": "white"
           }
          },
          "shapedefaults": {
           "line": {
            "color": "#2a3f5f"
           }
          },
          "ternary": {
           "aaxis": {
            "gridcolor": "white",
            "linecolor": "white",
            "ticks": ""
           },
           "baxis": {
            "gridcolor": "white",
            "linecolor": "white",
            "ticks": ""
           },
           "bgcolor": "#E5ECF6",
           "caxis": {
            "gridcolor": "white",
            "linecolor": "white",
            "ticks": ""
           }
          },
          "title": {
           "x": 0.05
          },
          "xaxis": {
           "automargin": true,
           "gridcolor": "white",
           "linecolor": "white",
           "ticks": "",
           "title": {
            "standoff": 15
           },
           "zerolinecolor": "white",
           "zerolinewidth": 2
          },
          "yaxis": {
           "automargin": true,
           "gridcolor": "white",
           "linecolor": "white",
           "ticks": "",
           "title": {
            "standoff": 15
           },
           "zerolinecolor": "white",
           "zerolinewidth": 2
          }
         }
        },
        "title": {
         "text": "Graphcore - Concurent Regressiob After Series C"
        },
        "xaxis": {
         "anchor": "y",
         "domain": [
          0,
          1
         ],
         "title": {
          "text": "Time since founding"
         }
        },
        "yaxis": {
         "anchor": "x",
         "domain": [
          0,
          1
         ],
         "title": {
          "text": "value"
         }
        }
       }
      }
     },
     "metadata": {},
     "output_type": "display_data"
    },
    {
     "name": "stdout",
     "output_type": "stream",
     "text": [
      "1.6569172660614326e-09 0.0016336809061544587 0.007772537080787678\n"
     ]
    },
    {
     "data": {
      "application/vnd.plotly.v1+json": {
       "config": {
        "plotlyServerURL": "https://plot.ly"
       },
       "data": [
        {
         "hovertemplate": "variable=/g/11dymfxl0__no_seasonality<br>Time since founding=%{x}<br>value=%{y}<extra></extra>",
         "legendgroup": "/g/11dymfxl0__no_seasonality",
         "line": {
          "color": "#636efa",
          "dash": "solid"
         },
         "marker": {
          "symbol": "circle"
         },
         "mode": "lines",
         "name": "/g/11dymfxl0__no_seasonality",
         "orientation": "v",
         "showlegend": true,
         "type": "scatter",
         "x": [
          "2019-11-24T00:00:00",
          "2019-12-01T00:00:00",
          "2019-12-08T00:00:00",
          "2019-12-15T00:00:00",
          "2019-12-22T00:00:00",
          "2019-12-29T00:00:00",
          "2020-01-05T00:00:00",
          "2020-01-12T00:00:00",
          "2020-01-19T00:00:00",
          "2020-01-26T00:00:00",
          "2020-02-02T00:00:00",
          "2020-02-09T00:00:00",
          "2020-02-16T00:00:00",
          "2020-02-23T00:00:00",
          "2020-03-01T00:00:00",
          "2020-03-08T00:00:00",
          "2020-03-15T00:00:00",
          "2020-03-22T00:00:00",
          "2020-03-29T00:00:00",
          "2020-04-05T00:00:00",
          "2020-04-12T00:00:00",
          "2020-04-19T00:00:00",
          "2020-04-26T00:00:00",
          "2020-05-03T00:00:00",
          "2020-05-10T00:00:00",
          "2020-05-17T00:00:00",
          "2020-05-24T00:00:00",
          "2020-05-31T00:00:00",
          "2020-06-07T00:00:00",
          "2020-06-14T00:00:00",
          "2020-06-21T00:00:00",
          "2020-06-28T00:00:00",
          "2020-07-05T00:00:00",
          "2020-07-12T00:00:00",
          "2020-07-19T00:00:00",
          "2020-07-26T00:00:00",
          "2020-08-02T00:00:00",
          "2020-08-09T00:00:00",
          "2020-08-16T00:00:00",
          "2020-08-23T00:00:00",
          "2020-08-30T00:00:00",
          "2020-09-06T00:00:00",
          "2020-09-13T00:00:00",
          "2020-09-20T00:00:00",
          "2020-09-27T00:00:00",
          "2020-10-04T00:00:00",
          "2020-10-11T00:00:00",
          "2020-10-18T00:00:00",
          "2020-10-25T00:00:00",
          "2020-11-01T00:00:00",
          "2020-11-08T00:00:00",
          "2020-11-15T00:00:00",
          "2020-11-22T00:00:00",
          "2020-11-29T00:00:00",
          "2020-12-06T00:00:00",
          "2020-12-13T00:00:00",
          "2020-12-20T00:00:00",
          "2020-12-27T00:00:00",
          "2021-01-03T00:00:00",
          "2021-01-10T00:00:00",
          "2021-01-17T00:00:00",
          "2021-01-24T00:00:00",
          "2021-01-31T00:00:00",
          "2021-02-07T00:00:00",
          "2021-02-14T00:00:00",
          "2021-02-21T00:00:00",
          "2021-02-28T00:00:00",
          "2021-03-07T00:00:00",
          "2021-03-14T00:00:00",
          "2021-03-21T00:00:00",
          "2021-03-28T00:00:00",
          "2021-04-04T00:00:00",
          "2021-04-11T00:00:00"
         ],
         "xaxis": "x",
         "y": [
          40.18579811010323,
          60.27869716515484,
          100.4644952752581,
          95.44127051149519,
          90.41804574773228,
          85.39482098396937,
          80.37159622020646,
          100.4644952752581,
          80.37159622020646,
          100.4644952752581,
          80.37159622020646,
          60.27869716515484,
          60.27869716515484,
          40.18579811010323,
          80.37159622020646,
          80.37159622020646,
          80.37159622020646,
          60.27869716515484,
          60.27869716515484,
          60.27869716515484,
          120.5573943303097,
          80.37159622020646,
          60.27869716515484,
          60.27869716515484,
          120.5573943303097,
          60.27869716515484,
          100.4644952752581,
          80.37159622020646,
          80.37159622020646,
          100.4644952752581,
          80.37159622020646,
          20.09289905505161,
          80.37159622020646,
          60.27869716515484,
          120.5573943303097,
          60.27869716515484,
          60.27869716515484,
          80.37159622020646,
          120.5573943303097,
          120.5573943303097,
          100.4644952752581,
          140.6502933853613,
          100.4644952752581,
          60.27869716515484,
          80.37159622020646,
          60.27869716515484,
          60.27869716515484,
          60.27869716515484,
          60.27869716515484,
          60.27869716515484,
          40.18579811010323,
          40.18579811010323,
          40.18579811010323,
          80.37159622020646,
          80.37159622020646,
          100.4644952752581,
          85.39482098396938,
          70.32514669268066,
          55.25547240139194,
          40.18579811010323,
          40.18579811010323,
          80.37159622020646,
          60.27869716515484,
          80.37159622020646,
          80.37159622020646,
          100.4644952752581,
          80.37159622020646,
          100.4644952752581,
          80.37159622020646,
          221.0218896055678,
          160.7431924404129,
          120.5573943303097,
          160.7431924404129
         ],
         "yaxis": "y"
        },
        {
         "hovertemplate": "variable=unrestricted<br>Time since founding=%{x}<br>value=%{y}<extra></extra>",
         "legendgroup": "unrestricted",
         "line": {
          "color": "#EF553B",
          "dash": "solid"
         },
         "marker": {
          "symbol": "circle"
         },
         "mode": "lines",
         "name": "unrestricted",
         "orientation": "v",
         "showlegend": true,
         "type": "scatter",
         "x": [
          "2019-11-24T00:00:00",
          "2019-12-01T00:00:00",
          "2019-12-08T00:00:00",
          "2019-12-15T00:00:00",
          "2019-12-22T00:00:00",
          "2019-12-29T00:00:00",
          "2020-01-05T00:00:00",
          "2020-01-12T00:00:00",
          "2020-01-19T00:00:00",
          "2020-01-26T00:00:00",
          "2020-02-02T00:00:00",
          "2020-02-09T00:00:00",
          "2020-02-16T00:00:00",
          "2020-02-23T00:00:00",
          "2020-03-01T00:00:00",
          "2020-03-08T00:00:00",
          "2020-03-15T00:00:00",
          "2020-03-22T00:00:00",
          "2020-03-29T00:00:00",
          "2020-04-05T00:00:00",
          "2020-04-12T00:00:00",
          "2020-04-19T00:00:00",
          "2020-04-26T00:00:00",
          "2020-05-03T00:00:00",
          "2020-05-10T00:00:00",
          "2020-05-17T00:00:00",
          "2020-05-24T00:00:00",
          "2020-05-31T00:00:00",
          "2020-06-07T00:00:00",
          "2020-06-14T00:00:00",
          "2020-06-21T00:00:00",
          "2020-06-28T00:00:00",
          "2020-07-05T00:00:00",
          "2020-07-12T00:00:00",
          "2020-07-19T00:00:00",
          "2020-07-26T00:00:00",
          "2020-08-02T00:00:00",
          "2020-08-09T00:00:00",
          "2020-08-16T00:00:00",
          "2020-08-23T00:00:00",
          "2020-08-30T00:00:00",
          "2020-09-06T00:00:00",
          "2020-09-13T00:00:00",
          "2020-09-20T00:00:00",
          "2020-09-27T00:00:00",
          "2020-10-04T00:00:00",
          "2020-10-11T00:00:00",
          "2020-10-18T00:00:00",
          "2020-10-25T00:00:00",
          "2020-11-01T00:00:00",
          "2020-11-08T00:00:00",
          "2020-11-15T00:00:00",
          "2020-11-22T00:00:00",
          "2020-11-29T00:00:00",
          "2020-12-06T00:00:00",
          "2020-12-13T00:00:00",
          "2020-12-20T00:00:00",
          "2020-12-27T00:00:00",
          "2021-01-03T00:00:00",
          "2021-01-10T00:00:00",
          "2021-01-17T00:00:00",
          "2021-01-24T00:00:00",
          "2021-01-31T00:00:00",
          "2021-02-07T00:00:00",
          "2021-02-14T00:00:00",
          "2021-02-21T00:00:00",
          "2021-02-28T00:00:00",
          "2021-03-07T00:00:00",
          "2021-03-14T00:00:00",
          "2021-03-21T00:00:00",
          "2021-03-28T00:00:00",
          "2021-04-04T00:00:00",
          "2021-04-11T00:00:00"
         ],
         "xaxis": "x",
         "y": [
          59.2690500167694,
          60.33344756511659,
          61.39784511346378,
          62.462242661810976,
          63.52664021015817,
          64.59103775850537,
          65.65543530685255,
          66.71983285519975,
          67.78423040354694,
          68.84862795189414,
          69.91302550024133,
          70.97742304858852,
          72.04182059693572,
          73.10621814528291,
          74.17061569363011,
          75.2350132419773,
          76.29941079032449,
          77.36380833867169,
          78.42820588701888,
          79.49260343536608,
          80.55700098371327,
          81.62139853206045,
          82.68579608040766,
          83.75019362875484,
          84.81459117710205,
          85.87898872544923,
          86.94338627379642,
          88.00778382214362,
          89.07218137049081,
          90.13657891883801,
          91.2009764671852,
          92.26537401553239,
          93.32977156387959,
          94.39416911222678,
          95.45856666057398,
          96.52296420892117,
          97.58736175726837,
          98.65175930561556,
          99.71615685396274,
          100.78055440230995,
          101.84495195065713,
          102.90934949900434,
          66.02602808008336,
          67.09042562843055,
          68.15482317677775,
          69.21922072512494,
          70.28361827347214,
          71.34801582181933,
          72.41241337016652,
          73.47681091851372,
          74.54120846686091,
          75.60560601520811,
          76.6700035635553,
          77.73440111190249,
          78.79879866024969,
          79.86319620859688,
          80.92759375694408,
          81.99199130529126,
          83.05638885363845,
          84.12078640198565,
          85.18518395033284,
          86.24958149868004,
          87.31397904702723,
          88.37837659537443,
          89.44277414372162,
          90.50717169206881,
          91.571569240416,
          92.63596678876321,
          93.7003643371104,
          94.76476188545759,
          95.82915943380478,
          96.89355698215196,
          97.95795453049918
         ],
         "yaxis": "y"
        }
       ],
       "layout": {
        "legend": {
         "title": {
          "text": "variable"
         },
         "tracegroupgap": 0
        },
        "shapes": [
         {
          "line": {
           "color": "red",
           "dash": "dash",
           "width": 1
          },
          "type": "line",
          "x0": "2020-09-08T00:00:00",
          "x1": "2020-09-08T00:00:00",
          "xref": "x",
          "y0": 0,
          "y1": 1,
          "yref": "y domain"
         }
        ],
        "template": {
         "data": {
          "bar": [
           {
            "error_x": {
             "color": "#2a3f5f"
            },
            "error_y": {
             "color": "#2a3f5f"
            },
            "marker": {
             "line": {
              "color": "#E5ECF6",
              "width": 0.5
             },
             "pattern": {
              "fillmode": "overlay",
              "size": 10,
              "solidity": 0.2
             }
            },
            "type": "bar"
           }
          ],
          "barpolar": [
           {
            "marker": {
             "line": {
              "color": "#E5ECF6",
              "width": 0.5
             },
             "pattern": {
              "fillmode": "overlay",
              "size": 10,
              "solidity": 0.2
             }
            },
            "type": "barpolar"
           }
          ],
          "carpet": [
           {
            "aaxis": {
             "endlinecolor": "#2a3f5f",
             "gridcolor": "white",
             "linecolor": "white",
             "minorgridcolor": "white",
             "startlinecolor": "#2a3f5f"
            },
            "baxis": {
             "endlinecolor": "#2a3f5f",
             "gridcolor": "white",
             "linecolor": "white",
             "minorgridcolor": "white",
             "startlinecolor": "#2a3f5f"
            },
            "type": "carpet"
           }
          ],
          "choropleth": [
           {
            "colorbar": {
             "outlinewidth": 0,
             "ticks": ""
            },
            "type": "choropleth"
           }
          ],
          "contour": [
           {
            "colorbar": {
             "outlinewidth": 0,
             "ticks": ""
            },
            "colorscale": [
             [
              0,
              "#0d0887"
             ],
             [
              0.1111111111111111,
              "#46039f"
             ],
             [
              0.2222222222222222,
              "#7201a8"
             ],
             [
              0.3333333333333333,
              "#9c179e"
             ],
             [
              0.4444444444444444,
              "#bd3786"
             ],
             [
              0.5555555555555556,
              "#d8576b"
             ],
             [
              0.6666666666666666,
              "#ed7953"
             ],
             [
              0.7777777777777778,
              "#fb9f3a"
             ],
             [
              0.8888888888888888,
              "#fdca26"
             ],
             [
              1,
              "#f0f921"
             ]
            ],
            "type": "contour"
           }
          ],
          "contourcarpet": [
           {
            "colorbar": {
             "outlinewidth": 0,
             "ticks": ""
            },
            "type": "contourcarpet"
           }
          ],
          "heatmap": [
           {
            "colorbar": {
             "outlinewidth": 0,
             "ticks": ""
            },
            "colorscale": [
             [
              0,
              "#0d0887"
             ],
             [
              0.1111111111111111,
              "#46039f"
             ],
             [
              0.2222222222222222,
              "#7201a8"
             ],
             [
              0.3333333333333333,
              "#9c179e"
             ],
             [
              0.4444444444444444,
              "#bd3786"
             ],
             [
              0.5555555555555556,
              "#d8576b"
             ],
             [
              0.6666666666666666,
              "#ed7953"
             ],
             [
              0.7777777777777778,
              "#fb9f3a"
             ],
             [
              0.8888888888888888,
              "#fdca26"
             ],
             [
              1,
              "#f0f921"
             ]
            ],
            "type": "heatmap"
           }
          ],
          "heatmapgl": [
           {
            "colorbar": {
             "outlinewidth": 0,
             "ticks": ""
            },
            "colorscale": [
             [
              0,
              "#0d0887"
             ],
             [
              0.1111111111111111,
              "#46039f"
             ],
             [
              0.2222222222222222,
              "#7201a8"
             ],
             [
              0.3333333333333333,
              "#9c179e"
             ],
             [
              0.4444444444444444,
              "#bd3786"
             ],
             [
              0.5555555555555556,
              "#d8576b"
             ],
             [
              0.6666666666666666,
              "#ed7953"
             ],
             [
              0.7777777777777778,
              "#fb9f3a"
             ],
             [
              0.8888888888888888,
              "#fdca26"
             ],
             [
              1,
              "#f0f921"
             ]
            ],
            "type": "heatmapgl"
           }
          ],
          "histogram": [
           {
            "marker": {
             "pattern": {
              "fillmode": "overlay",
              "size": 10,
              "solidity": 0.2
             }
            },
            "type": "histogram"
           }
          ],
          "histogram2d": [
           {
            "colorbar": {
             "outlinewidth": 0,
             "ticks": ""
            },
            "colorscale": [
             [
              0,
              "#0d0887"
             ],
             [
              0.1111111111111111,
              "#46039f"
             ],
             [
              0.2222222222222222,
              "#7201a8"
             ],
             [
              0.3333333333333333,
              "#9c179e"
             ],
             [
              0.4444444444444444,
              "#bd3786"
             ],
             [
              0.5555555555555556,
              "#d8576b"
             ],
             [
              0.6666666666666666,
              "#ed7953"
             ],
             [
              0.7777777777777778,
              "#fb9f3a"
             ],
             [
              0.8888888888888888,
              "#fdca26"
             ],
             [
              1,
              "#f0f921"
             ]
            ],
            "type": "histogram2d"
           }
          ],
          "histogram2dcontour": [
           {
            "colorbar": {
             "outlinewidth": 0,
             "ticks": ""
            },
            "colorscale": [
             [
              0,
              "#0d0887"
             ],
             [
              0.1111111111111111,
              "#46039f"
             ],
             [
              0.2222222222222222,
              "#7201a8"
             ],
             [
              0.3333333333333333,
              "#9c179e"
             ],
             [
              0.4444444444444444,
              "#bd3786"
             ],
             [
              0.5555555555555556,
              "#d8576b"
             ],
             [
              0.6666666666666666,
              "#ed7953"
             ],
             [
              0.7777777777777778,
              "#fb9f3a"
             ],
             [
              0.8888888888888888,
              "#fdca26"
             ],
             [
              1,
              "#f0f921"
             ]
            ],
            "type": "histogram2dcontour"
           }
          ],
          "mesh3d": [
           {
            "colorbar": {
             "outlinewidth": 0,
             "ticks": ""
            },
            "type": "mesh3d"
           }
          ],
          "parcoords": [
           {
            "line": {
             "colorbar": {
              "outlinewidth": 0,
              "ticks": ""
             }
            },
            "type": "parcoords"
           }
          ],
          "pie": [
           {
            "automargin": true,
            "type": "pie"
           }
          ],
          "scatter": [
           {
            "marker": {
             "colorbar": {
              "outlinewidth": 0,
              "ticks": ""
             }
            },
            "type": "scatter"
           }
          ],
          "scatter3d": [
           {
            "line": {
             "colorbar": {
              "outlinewidth": 0,
              "ticks": ""
             }
            },
            "marker": {
             "colorbar": {
              "outlinewidth": 0,
              "ticks": ""
             }
            },
            "type": "scatter3d"
           }
          ],
          "scattercarpet": [
           {
            "marker": {
             "colorbar": {
              "outlinewidth": 0,
              "ticks": ""
             }
            },
            "type": "scattercarpet"
           }
          ],
          "scattergeo": [
           {
            "marker": {
             "colorbar": {
              "outlinewidth": 0,
              "ticks": ""
             }
            },
            "type": "scattergeo"
           }
          ],
          "scattergl": [
           {
            "marker": {
             "colorbar": {
              "outlinewidth": 0,
              "ticks": ""
             }
            },
            "type": "scattergl"
           }
          ],
          "scattermapbox": [
           {
            "marker": {
             "colorbar": {
              "outlinewidth": 0,
              "ticks": ""
             }
            },
            "type": "scattermapbox"
           }
          ],
          "scatterpolar": [
           {
            "marker": {
             "colorbar": {
              "outlinewidth": 0,
              "ticks": ""
             }
            },
            "type": "scatterpolar"
           }
          ],
          "scatterpolargl": [
           {
            "marker": {
             "colorbar": {
              "outlinewidth": 0,
              "ticks": ""
             }
            },
            "type": "scatterpolargl"
           }
          ],
          "scatterternary": [
           {
            "marker": {
             "colorbar": {
              "outlinewidth": 0,
              "ticks": ""
             }
            },
            "type": "scatterternary"
           }
          ],
          "surface": [
           {
            "colorbar": {
             "outlinewidth": 0,
             "ticks": ""
            },
            "colorscale": [
             [
              0,
              "#0d0887"
             ],
             [
              0.1111111111111111,
              "#46039f"
             ],
             [
              0.2222222222222222,
              "#7201a8"
             ],
             [
              0.3333333333333333,
              "#9c179e"
             ],
             [
              0.4444444444444444,
              "#bd3786"
             ],
             [
              0.5555555555555556,
              "#d8576b"
             ],
             [
              0.6666666666666666,
              "#ed7953"
             ],
             [
              0.7777777777777778,
              "#fb9f3a"
             ],
             [
              0.8888888888888888,
              "#fdca26"
             ],
             [
              1,
              "#f0f921"
             ]
            ],
            "type": "surface"
           }
          ],
          "table": [
           {
            "cells": {
             "fill": {
              "color": "#EBF0F8"
             },
             "line": {
              "color": "white"
             }
            },
            "header": {
             "fill": {
              "color": "#C8D4E3"
             },
             "line": {
              "color": "white"
             }
            },
            "type": "table"
           }
          ]
         },
         "layout": {
          "annotationdefaults": {
           "arrowcolor": "#2a3f5f",
           "arrowhead": 0,
           "arrowwidth": 1
          },
          "autotypenumbers": "strict",
          "coloraxis": {
           "colorbar": {
            "outlinewidth": 0,
            "ticks": ""
           }
          },
          "colorscale": {
           "diverging": [
            [
             0,
             "#8e0152"
            ],
            [
             0.1,
             "#c51b7d"
            ],
            [
             0.2,
             "#de77ae"
            ],
            [
             0.3,
             "#f1b6da"
            ],
            [
             0.4,
             "#fde0ef"
            ],
            [
             0.5,
             "#f7f7f7"
            ],
            [
             0.6,
             "#e6f5d0"
            ],
            [
             0.7,
             "#b8e186"
            ],
            [
             0.8,
             "#7fbc41"
            ],
            [
             0.9,
             "#4d9221"
            ],
            [
             1,
             "#276419"
            ]
           ],
           "sequential": [
            [
             0,
             "#0d0887"
            ],
            [
             0.1111111111111111,
             "#46039f"
            ],
            [
             0.2222222222222222,
             "#7201a8"
            ],
            [
             0.3333333333333333,
             "#9c179e"
            ],
            [
             0.4444444444444444,
             "#bd3786"
            ],
            [
             0.5555555555555556,
             "#d8576b"
            ],
            [
             0.6666666666666666,
             "#ed7953"
            ],
            [
             0.7777777777777778,
             "#fb9f3a"
            ],
            [
             0.8888888888888888,
             "#fdca26"
            ],
            [
             1,
             "#f0f921"
            ]
           ],
           "sequentialminus": [
            [
             0,
             "#0d0887"
            ],
            [
             0.1111111111111111,
             "#46039f"
            ],
            [
             0.2222222222222222,
             "#7201a8"
            ],
            [
             0.3333333333333333,
             "#9c179e"
            ],
            [
             0.4444444444444444,
             "#bd3786"
            ],
            [
             0.5555555555555556,
             "#d8576b"
            ],
            [
             0.6666666666666666,
             "#ed7953"
            ],
            [
             0.7777777777777778,
             "#fb9f3a"
            ],
            [
             0.8888888888888888,
             "#fdca26"
            ],
            [
             1,
             "#f0f921"
            ]
           ]
          },
          "colorway": [
           "#636efa",
           "#EF553B",
           "#00cc96",
           "#ab63fa",
           "#FFA15A",
           "#19d3f3",
           "#FF6692",
           "#B6E880",
           "#FF97FF",
           "#FECB52"
          ],
          "font": {
           "color": "#2a3f5f"
          },
          "geo": {
           "bgcolor": "white",
           "lakecolor": "white",
           "landcolor": "#E5ECF6",
           "showlakes": true,
           "showland": true,
           "subunitcolor": "white"
          },
          "hoverlabel": {
           "align": "left"
          },
          "hovermode": "closest",
          "mapbox": {
           "style": "light"
          },
          "paper_bgcolor": "white",
          "plot_bgcolor": "#E5ECF6",
          "polar": {
           "angularaxis": {
            "gridcolor": "white",
            "linecolor": "white",
            "ticks": ""
           },
           "bgcolor": "#E5ECF6",
           "radialaxis": {
            "gridcolor": "white",
            "linecolor": "white",
            "ticks": ""
           }
          },
          "scene": {
           "xaxis": {
            "backgroundcolor": "#E5ECF6",
            "gridcolor": "white",
            "gridwidth": 2,
            "linecolor": "white",
            "showbackground": true,
            "ticks": "",
            "zerolinecolor": "white"
           },
           "yaxis": {
            "backgroundcolor": "#E5ECF6",
            "gridcolor": "white",
            "gridwidth": 2,
            "linecolor": "white",
            "showbackground": true,
            "ticks": "",
            "zerolinecolor": "white"
           },
           "zaxis": {
            "backgroundcolor": "#E5ECF6",
            "gridcolor": "white",
            "gridwidth": 2,
            "linecolor": "white",
            "showbackground": true,
            "ticks": "",
            "zerolinecolor": "white"
           }
          },
          "shapedefaults": {
           "line": {
            "color": "#2a3f5f"
           }
          },
          "ternary": {
           "aaxis": {
            "gridcolor": "white",
            "linecolor": "white",
            "ticks": ""
           },
           "baxis": {
            "gridcolor": "white",
            "linecolor": "white",
            "ticks": ""
           },
           "bgcolor": "#E5ECF6",
           "caxis": {
            "gridcolor": "white",
            "linecolor": "white",
            "ticks": ""
           }
          },
          "title": {
           "x": 0.05
          },
          "xaxis": {
           "automargin": true,
           "gridcolor": "white",
           "linecolor": "white",
           "ticks": "",
           "title": {
            "standoff": 15
           },
           "zerolinecolor": "white",
           "zerolinewidth": 2
          },
          "yaxis": {
           "automargin": true,
           "gridcolor": "white",
           "linecolor": "white",
           "ticks": "",
           "title": {
            "standoff": 15
           },
           "zerolinecolor": "white",
           "zerolinewidth": 2
          }
         }
        },
        "title": {
         "text": "Zymergen - Parallel Regression After Series A"
        },
        "xaxis": {
         "anchor": "y",
         "domain": [
          0,
          1
         ],
         "title": {
          "text": "Time since founding"
         }
        },
        "yaxis": {
         "anchor": "x",
         "domain": [
          0,
          1
         ],
         "title": {
          "text": "value"
         }
        }
       }
      }
     },
     "metadata": {},
     "output_type": "display_data"
    }
   ],
   "source": [
    "for index_good_time, row in comp_data_eval.iterrows():\n",
    "\n",
    "    # Load residuals\n",
    "    input_data = '_no_seasonality'\n",
    "    data       = code_to_time(row.Code, input_data)\n",
    "    withevents = code_to_time(row.Code, '_no_seasonality')\n",
    "\n",
    "    # Events\n",
    "    events     = pd.read_excel(f'{event_folder}/{row.Name}.xlsx')\n",
    "    events.set_index(events.Date, inplace = True)\n",
    "    events.drop(['Date'], axis=1, inplace=True)\n",
    "\n",
    "    # List of event dates including start and end of timeline\n",
    "    points_in_time = list(events.loc[events.Event.isna()].index.union([data.index[0], data.index[-1]])[::-1])\n",
    "    \n",
    "    # P-values storage\n",
    "    p_val_inters, p_val_slops, p_val_inter_bs, p_val_slop_bs, j, change_slope, change_inter = [], [], [], [], 0, [], []\n",
    "   \n",
    "    for i in range(len(events)):\n",
    "\n",
    "        # if event is a media event\n",
    "        if events.iloc[i,:].Event == events.iloc[i,:].Event:\n",
    "            p_val_inters.append(np.nan)\n",
    "            p_val_slops.append(np.nan)\n",
    "            p_val_inter_bs.append(np.nan)\n",
    "            p_val_slop_bs.append(np.nan)\n",
    "            #change_slope.append(np.nan)\n",
    "            #change_inter.append(np.nan)\n",
    "            continue\n",
    "\n",
    "        # Get relevant points of the period of interest\n",
    "        interval_1 = points_in_time[j+1] - points_in_time[j+2]\n",
    "        breakpoint = points_in_time[j+1]\n",
    "        interval_2 = points_in_time[j] - points_in_time[j+1]\n",
    "        start      = points_in_time[j+2]\n",
    "        end        = points_in_time[j]\n",
    "\n",
    "        if interval_1.days < 100 or interval_2.days < 100:\n",
    "            p_val_inters.append(np.nan)\n",
    "            p_val_slops.append(np.nan)\n",
    "            p_val_inter_bs.append(np.nan)\n",
    "            p_val_slop_bs.append(np.nan)\n",
    "            #change_slope.append(np.nan)\n",
    "            #change_inter.append(np.nan)\n",
    "            j+=1\n",
    "            continue\n",
    "\n",
    "        # if periods are too Long\n",
    "        if interval_1.days > 300: start = breakpoint - pd.Timedelta(days = 300)\n",
    "        if interval_2.days > 300: end   = breakpoint + pd.Timedelta(days = 300)\n",
    "\n",
    "        \n",
    "        #Make chow test\n",
    "        chow_test_structure_inter(data[start + pd.Timedelta(days = 7):end - pd.Timedelta(days = 7)], withevents[start + pd.Timedelta(days = 7):end - pd.Timedelta(days = 7)], breakpoint, f'{row.Code}{input_data}', row.Name)\n",
    "        chow_test_structure_slope(data[start + pd.Timedelta(days = 7):end - pd.Timedelta(days = 7)], withevents[start + pd.Timedelta(days = 7):end - pd.Timedelta(days = 7)], breakpoint, f'{row.Code}{input_data}', row.Name)\n",
    "        p_val_inter, p_val_slop, p_val_inter_b, p_val_slop_b = chow_test_structure_both(data[start + pd.Timedelta(days = 7):end - pd.Timedelta(days = 7)], withevents[start + pd.Timedelta(days = 7):end - pd.Timedelta(days = 7)], breakpoint, f'{row.Code}{input_data}', row.Name)\n",
    "        \n",
    "        #collect results of chow\n",
    "        p_val_inters.append(p_val_inter)\n",
    "        p_val_slops.append(p_val_slop)\n",
    "        p_val_inter_bs.append(p_val_inter_b)\n",
    "        p_val_slop_bs.append(p_val_slop_b)\n",
    "        #change_slope.append(slope)\n",
    "        #change_inter.append(inter)\n",
    "        \n",
    "        j+=1\n",
    "        \n",
    "    # Save results\n",
    "    events['p_val_con']   = p_val_inters\n",
    "    events['p_val_slop']    = p_val_slops\n",
    "    events['p_val_con_d'] = p_val_inter_bs\n",
    "    events['p_val_slop_d']  = p_val_slop_bs\n",
    "    #events['change_slope']  = change_slope\n",
    "    #events['change_inter']  = change_inter\n",
    "\n",
    "    #events.to_excel(f'{reg_folder}/{row.Name}.xlsx')"
   ]
  },
  {
   "cell_type": "code",
   "execution_count": 441,
   "metadata": {},
   "outputs": [],
   "source": []
  },
  {
   "cell_type": "markdown",
   "metadata": {},
   "source": [
    "### visualization of struc changes"
   ]
  },
  {
   "cell_type": "code",
   "execution_count": null,
   "metadata": {},
   "outputs": [],
   "source": [
    "i = 0\n",
    "for index, comp in events.iterrows():\n",
    "\n",
    "\n",
    "    code = comp_data_eval.loc[comp_data_eval.Name == comp.comp_name].Code.values[0]\n",
    "    start       = time_points[i][0]\n",
    "    breakpointa = time_points[i][1]\n",
    "    breakpointb = time_points[i][2]\n",
    "    end         = time_points[i][3]\n",
    "\n",
    "    interval = code_to_time(code, '_no_events')\n",
    "    full_in  = interval[start:end]\n",
    "    interval = pd.concat([interval[start:breakpointa],interval[breakpointb:end]], axis=0)\n",
    "\n",
    "    interval = sm.add_constant(interval)\n",
    "    interval = statsmodels.tsa.tsatools.add_trend(interval, trend='t')\n",
    "\n",
    "    interval['const_dummy'] = (interval.index >= breakpointa).astype(int)\n",
    "\n",
    "    a = [0] * (interval.shape[0] - interval['const_dummy'].sum())\n",
    "    a.extend(list(range(1,interval['const_dummy'].sum()+1)))\n",
    "\n",
    "    interval['trend_dummy'] = a\n",
    "\n",
    "    y   = interval[f'{code}_no_events']\n",
    "    x_r = interval[['const', 'trend']]\n",
    "    x_u = interval[['const', 'trend', 'const_dummy', 'trend_dummy']]\n",
    "\n",
    "    model_r = sm.OLS(y,x_r).fit()\n",
    "    model_u = sm.OLS(y,x_u).fit()\n",
    "\n",
    "    df                 = interval\n",
    "    df['unrestricted'] = model_u.predict()\n",
    "    df['restricted']   = model_r.predict()\n",
    "\n",
    "    intervall = code_to_time(code, '')\n",
    "\n",
    "    df['original'] = intervall[start:end]\n",
    "\n",
    "\n",
    "    fig = px.line(df, x=df.index, y=[f'original', 'unrestricted', 'restricted', ], title= f'{comp.comp_name} - {comp.Chow_p_value}', labels={'company': 'Interest', 'date': 'Time since founding'})\n",
    "    fig.add_vline(x=comp.picked_date, line_width=1, line_dash=\"dash\", line_color=\"red\")\n",
    "\n",
    "    fig.show()\n",
    "    print(model_u.summary())\n",
    "\n",
    "    i += 1"
   ]
  },
  {
   "cell_type": "markdown",
   "metadata": {},
   "source": [
    "# Lenght of Periods Between VC Events"
   ]
  },
  {
   "cell_type": "code",
   "execution_count": 30,
   "metadata": {},
   "outputs": [],
   "source": [
    "from os import listdir\n",
    "from os.path import isfile, join\n",
    "onlyfiles = [f for f in listdir(event_folder) if isfile(join(event_folder, f)) and f != '.DS_Store']"
   ]
  },
  {
   "cell_type": "code",
   "execution_count": 31,
   "metadata": {},
   "outputs": [
    {
     "name": "stdout",
     "output_type": "stream",
     "text": [
      "Subtle Medical\n"
     ]
    }
   ],
   "source": [
    "all_time_deltas = []\n",
    "\n",
    "for index, row in comp_data_eval.iterrows():\n",
    "\n",
    "    events = pd.read_excel(f'{event_folder}/{row.Name}.xlsx')\n",
    "\n",
    "    time_deltas = []\n",
    "\n",
    "    for index, row in events.iterrows():\n",
    "\n",
    "        if len(time_deltas) != 0: time_deltas[-1] = time_deltas[-1] - row.Date\n",
    "\n",
    "        if len(time_deltas) == len(events) -1: continue\n",
    "\n",
    "        time_deltas.append(row.Date)\n",
    "\n",
    "    if any([a.days in [5,6,7] for a in time_deltas]): print(row.comp_name)\n",
    "\n",
    "    all_time_deltas.extend(time_deltas)\n",
    "\n"
   ]
  },
  {
   "cell_type": "code",
   "execution_count": 40,
   "metadata": {},
   "outputs": [
    {
     "data": {
      "text/plain": [
       "(14.285714285714286, 42.857142857142854)"
      ]
     },
     "execution_count": 40,
     "metadata": {},
     "output_type": "execute_result"
    }
   ],
   "source": [
    "100/7, 300/7"
   ]
  },
  {
   "cell_type": "code",
   "execution_count": 41,
   "metadata": {},
   "outputs": [
    {
     "data": {
      "text/plain": [
       "504"
      ]
     },
     "execution_count": 41,
     "metadata": {},
     "output_type": "execute_result"
    }
   ],
   "source": [
    "72*7"
   ]
  },
  {
   "cell_type": "code",
   "execution_count": 49,
   "metadata": {},
   "outputs": [
    {
     "data": {
      "text/html": [
       "<div>\n",
       "<style scoped>\n",
       "    .dataframe tbody tr th:only-of-type {\n",
       "        vertical-align: middle;\n",
       "    }\n",
       "\n",
       "    .dataframe tbody tr th {\n",
       "        vertical-align: top;\n",
       "    }\n",
       "\n",
       "    .dataframe thead th {\n",
       "        text-align: right;\n",
       "    }\n",
       "</style>\n",
       "<table border=\"1\" class=\"dataframe\">\n",
       "  <thead>\n",
       "    <tr style=\"text-align: right;\">\n",
       "      <th></th>\n",
       "      <th>0</th>\n",
       "    </tr>\n",
       "  </thead>\n",
       "  <tbody>\n",
       "    <tr>\n",
       "      <th>count</th>\n",
       "      <td>705.000000</td>\n",
       "    </tr>\n",
       "    <tr>\n",
       "      <th>mean</th>\n",
       "      <td>45.937791</td>\n",
       "    </tr>\n",
       "    <tr>\n",
       "      <th>std</th>\n",
       "      <td>35.548520</td>\n",
       "    </tr>\n",
       "    <tr>\n",
       "      <th>min</th>\n",
       "      <td>1.000000</td>\n",
       "    </tr>\n",
       "    <tr>\n",
       "      <th>10%</th>\n",
       "      <td>7.828571</td>\n",
       "    </tr>\n",
       "    <tr>\n",
       "      <th>20%</th>\n",
       "      <td>14.000000</td>\n",
       "    </tr>\n",
       "    <tr>\n",
       "      <th>30%</th>\n",
       "      <td>20.200000</td>\n",
       "    </tr>\n",
       "    <tr>\n",
       "      <th>40%</th>\n",
       "      <td>28.800000</td>\n",
       "    </tr>\n",
       "    <tr>\n",
       "      <th>50%</th>\n",
       "      <td>37.000000</td>\n",
       "    </tr>\n",
       "    <tr>\n",
       "      <th>60%</th>\n",
       "      <td>47.914286</td>\n",
       "    </tr>\n",
       "    <tr>\n",
       "      <th>70%</th>\n",
       "      <td>60.514286</td>\n",
       "    </tr>\n",
       "    <tr>\n",
       "      <th>80%</th>\n",
       "      <td>72.685714</td>\n",
       "    </tr>\n",
       "    <tr>\n",
       "      <th>90%</th>\n",
       "      <td>94.800000</td>\n",
       "    </tr>\n",
       "    <tr>\n",
       "      <th>max</th>\n",
       "      <td>191.000000</td>\n",
       "    </tr>\n",
       "  </tbody>\n",
       "</table>\n",
       "</div>"
      ],
      "text/plain": [
       "                0\n",
       "count  705.000000\n",
       "mean    45.937791\n",
       "std     35.548520\n",
       "min      1.000000\n",
       "10%      7.828571\n",
       "20%     14.000000\n",
       "30%     20.200000\n",
       "40%     28.800000\n",
       "50%     37.000000\n",
       "60%     47.914286\n",
       "70%     60.514286\n",
       "80%     72.685714\n",
       "90%     94.800000\n",
       "max    191.000000"
      ]
     },
     "execution_count": 49,
     "metadata": {},
     "output_type": "execute_result"
    }
   ],
   "source": [
    "all_periods = pd.DataFrame([obj.days/7 for obj in all_time_deltas])\n",
    "all_periods.describe(percentiles=[.1,.2,.3,.4,.5,.6,.7,.8,.9])"
   ]
  },
  {
   "cell_type": "code",
   "execution_count": 54,
   "metadata": {},
   "outputs": [
    {
     "data": {
      "text/plain": [
       "43.342857"
      ]
     },
     "execution_count": 54,
     "metadata": {},
     "output_type": "execute_result"
    }
   ],
   "source": [
    "(14+\t72.685714)/2"
   ]
  },
  {
   "cell_type": "code",
   "execution_count": null,
   "metadata": {},
   "outputs": [],
   "source": [
    "all_periods"
   ]
  },
  {
   "cell_type": "code",
   "execution_count": 139,
   "metadata": {},
   "outputs": [
    {
     "data": {
      "text/plain": [
       "0    259.0\n",
       "dtype: float64"
      ]
     },
     "execution_count": 139,
     "metadata": {},
     "output_type": "execute_result"
    }
   ],
   "source": [
    "all_periods.median()"
   ]
  },
  {
   "cell_type": "code",
   "execution_count": 10,
   "metadata": {},
   "outputs": [
    {
     "data": {
      "text/plain": [
       "45.93779128672746"
      ]
     },
     "execution_count": 10,
     "metadata": {},
     "output_type": "execute_result"
    }
   ],
   "source": [
    "np.mean(all_periods)[0]"
   ]
  },
  {
   "cell_type": "code",
   "execution_count": 51,
   "metadata": {},
   "outputs": [
    {
     "name": "stderr",
     "output_type": "stream",
     "text": [
      "/Users/erichganz/Library/Python/3.8/lib/python/site-packages/numpy/core/fromnumeric.py:3472: FutureWarning:\n",
      "\n",
      "In a future version, DataFrame.mean(axis=None) will return a scalar mean over the entire DataFrame. To retain the old behavior, use 'frame.mean(axis=0)' or just 'frame.mean()'\n",
      "\n"
     ]
    },
    {
     "data": {
      "image/png": "[encoded data removed]",
      "text/plain": [
       "<Figure size 792x360 with 1 Axes>"
      ]
     },
     "metadata": {},
     "output_type": "display_data"
    }
   ],
   "source": [
    "import seaborn as sb\n",
    "sb.set_style(\"darkgrid\")\n",
    "\n",
    "# Distribution of p values of zscores among events \n",
    "dis_plot = sb.displot(all_periods, bins=100, legend=False, height=5, aspect=2.2)\n",
    "\n",
    "mean, median = np.mean(all_periods)[0], np.median(all_periods)\n",
    "\n",
    "plt.axvline(mean, 0,400, color='g')\n",
    "plt.axvline(median, 0,400, color='r')\n",
    "plt.axvline(14, 0 ,400, color='black', linestyle='dashed')\n",
    "plt.axvline(72, 0,400, color='black', linestyle='dashed')\n",
    "\n",
    "plt.legend(title='Distribution of Time Period Lengths in Weeks', loc='upper right', labels=[f'Mean Time Period Lengths: {\"{:.2f}\".format(mean)}', f'Median Time Period Lengths: {\"{:.2f}\".format(median)}', f'20% & 80% Percentile'])\n",
    "dis_plot.set(xlabel='Length of Time Period', ylabel='Number of Observation')\n",
    "plt.show(dis_plot)"
   ]
  },
  {
   "cell_type": "code",
   "execution_count": 52,
   "metadata": {},
   "outputs": [],
   "source": [
    "dis_plot.savefig(\"/Users/erichganz/Documents/Master Thesis/Visual/timeperiodleght.png\") "
   ]
  },
  {
   "cell_type": "markdown",
   "metadata": {},
   "source": [
    "# Predict Breakpoint"
   ]
  },
  {
   "cell_type": "markdown",
   "metadata": {},
   "source": [
    "# Regression Legacy"
   ]
  },
  {
   "cell_type": "code",
   "execution_count": null,
   "metadata": {},
   "outputs": [],
   "source": [
    "def test_stationarity(timeseries):\n",
    "\n",
    "    #Determing rolling statistics\n",
    "    rolmean = timeseries.rolling(window=12).mean()\n",
    "    rolstd  = timeseries.rolling(window=12).std()\n",
    "\n",
    "    #Plot rolling statistics:\n",
    "    fig = plt.figure(figsize=(12, 8))\n",
    "    orig = plt.plot(timeseries, color='blue',label='Original')\n",
    "    mean = plt.plot(rolmean, color='red', label='Rolling Mean')\n",
    "    std = plt.plot(rolstd, color='black', label = 'Rolling Std')\n",
    "    plt.legend(loc='best')\n",
    "    plt.title('Rolling Mean & Standard Deviation')\n",
    "    plt.show()\n",
    "    \n",
    "    #Perform Dickey-Fuller test:\n",
    "    print ('Results of Dickey-Fuller Test:')\n",
    "    dftest = adfuller(timeseries, autolag='AIC')\n",
    "    dfoutput = pd.Series(dftest[0:4], index=['Test Statistic','p-value','#Lags Used','Number of Observations Used'])\n",
    "    for key,value in dftest[4].items():\n",
    "        dfoutput['Critical Value (%s)'%key] = value\n",
    "    print (dfoutput) "
   ]
  },
  {
   "cell_type": "code",
   "execution_count": null,
   "metadata": {},
   "outputs": [],
   "source": [
    "for code in good_time.gtCode.values:\n",
    "\n",
    "    print(code)\n",
    "    \n",
    "    df = code_to_time(code, '_no_events')\n",
    "\n",
    "    df['first_diff'] = df[f'{code}_no_events'] - df[f'{code}_no_events'].shift(1)\n",
    "\n",
    "    test_stationarity(df.first_diff.dropna())\n",
    "\n",
    "    fig = plt.figure(figsize=(12,8))\n",
    "    ax1 = fig.add_subplot(211)\n",
    "    fig = statsmodels.graphics.tsaplots.plot_acf(df.first_diff.iloc[1:], lags=40, ax=ax1)\n",
    "    ax2 = fig.add_subplot(212)\n",
    "    fig = statsmodels.graphics.tsaplots.plot_pacf(df.first_diff.iloc[1:], lags=40, ax=ax2)\n",
    "    "
   ]
  },
  {
   "cell_type": "code",
   "execution_count": 514,
   "metadata": {},
   "outputs": [
    {
     "name": "stderr",
     "output_type": "stream",
     "text": [
      "/Users/erichganz/Library/Python/3.8/lib/python/site-packages/statsmodels/tsa/statespace/sarimax.py:966: UserWarning:\n",
      "\n",
      "Non-stationary starting autoregressive parameters found. Using zeros as starting parameters.\n",
      "\n",
      "/Users/erichganz/Library/Python/3.8/lib/python/site-packages/statsmodels/tsa/statespace/sarimax.py:978: UserWarning:\n",
      "\n",
      "Non-invertible starting MA parameters found. Using zeros as starting parameters.\n",
      "\n"
     ]
    },
    {
     "data": {
      "application/vnd.plotly.v1+json": {
       "config": {
        "plotlyServerURL": "https://plot.ly"
       },
       "data": [
        {
         "hovertemplate": "variable=/g/11f006dwxx_no_events<br>Time since founding=%{x}<br>value=%{y}<extra></extra>",
         "legendgroup": "/g/11f006dwxx_no_events",
         "line": {
          "color": "#636efa",
          "dash": "solid"
         },
         "marker": {
          "symbol": "circle"
         },
         "mode": "lines",
         "name": "/g/11f006dwxx_no_events",
         "orientation": "v",
         "showlegend": true,
         "type": "scatter",
         "x": [
          "2015-01-04T00:00:00",
          "2015-01-11T00:00:00",
          "2015-01-18T00:00:00",
          "2015-01-25T00:00:00",
          "2015-02-01T00:00:00",
          "2015-02-08T00:00:00",
          "2015-02-15T00:00:00",
          "2015-02-22T00:00:00",
          "2015-03-01T00:00:00",
          "2015-03-08T00:00:00",
          "2015-03-15T00:00:00",
          "2015-03-22T00:00:00",
          "2015-03-29T00:00:00",
          "2015-04-05T00:00:00",
          "2015-04-12T00:00:00",
          "2015-04-19T00:00:00",
          "2015-04-26T00:00:00",
          "2015-05-03T00:00:00",
          "2015-05-10T00:00:00",
          "2015-05-17T00:00:00",
          "2015-05-24T00:00:00",
          "2015-05-31T00:00:00",
          "2015-06-07T00:00:00",
          "2015-06-14T00:00:00",
          "2015-06-21T00:00:00",
          "2015-06-28T00:00:00",
          "2015-07-05T00:00:00",
          "2015-07-12T00:00:00",
          "2015-07-19T00:00:00",
          "2015-07-26T00:00:00",
          "2015-08-02T00:00:00",
          "2015-08-09T00:00:00",
          "2015-08-16T00:00:00",
          "2015-08-23T00:00:00",
          "2015-08-30T00:00:00",
          "2015-09-06T00:00:00",
          "2015-09-13T00:00:00",
          "2015-09-20T00:00:00",
          "2015-09-27T00:00:00",
          "2015-10-04T00:00:00",
          "2015-10-11T00:00:00",
          "2015-10-18T00:00:00",
          "2015-10-25T00:00:00",
          "2015-11-01T00:00:00",
          "2015-11-08T00:00:00",
          "2015-11-15T00:00:00",
          "2015-11-22T00:00:00",
          "2015-11-29T00:00:00",
          "2015-12-06T00:00:00",
          "2015-12-13T00:00:00",
          "2015-12-20T00:00:00",
          "2015-12-27T00:00:00",
          "2016-01-03T00:00:00",
          "2016-01-10T00:00:00",
          "2016-01-17T00:00:00",
          "2016-01-24T00:00:00",
          "2016-01-31T00:00:00",
          "2016-02-07T00:00:00",
          "2016-02-14T00:00:00",
          "2016-02-21T00:00:00",
          "2016-02-28T00:00:00",
          "2016-03-06T00:00:00",
          "2016-03-13T00:00:00",
          "2016-03-20T00:00:00",
          "2016-03-27T00:00:00",
          "2016-04-03T00:00:00",
          "2016-04-10T00:00:00",
          "2016-04-17T00:00:00",
          "2016-04-24T00:00:00",
          "2016-05-01T00:00:00",
          "2016-05-08T00:00:00",
          "2016-05-15T00:00:00",
          "2016-05-22T00:00:00",
          "2016-05-29T00:00:00",
          "2016-06-05T00:00:00",
          "2016-06-12T00:00:00",
          "2016-06-19T00:00:00",
          "2016-06-26T00:00:00",
          "2016-07-03T00:00:00",
          "2016-07-10T00:00:00",
          "2016-07-17T00:00:00",
          "2016-07-24T00:00:00",
          "2016-07-31T00:00:00",
          "2016-08-07T00:00:00",
          "2016-08-14T00:00:00",
          "2016-08-21T00:00:00",
          "2016-08-28T00:00:00",
          "2016-09-04T00:00:00",
          "2016-09-11T00:00:00",
          "2016-09-18T00:00:00",
          "2016-09-25T00:00:00",
          "2016-10-02T00:00:00",
          "2016-10-09T00:00:00",
          "2016-10-16T00:00:00",
          "2016-10-23T00:00:00",
          "2016-10-30T00:00:00",
          "2016-11-06T00:00:00",
          "2016-11-13T00:00:00",
          "2016-11-20T00:00:00",
          "2016-11-27T00:00:00",
          "2016-12-04T00:00:00",
          "2016-12-11T00:00:00",
          "2016-12-18T00:00:00",
          "2016-12-25T00:00:00",
          "2017-01-01T00:00:00",
          "2017-01-08T00:00:00",
          "2017-01-15T00:00:00",
          "2017-01-22T00:00:00",
          "2017-01-29T00:00:00",
          "2017-02-05T00:00:00",
          "2017-02-12T00:00:00",
          "2017-02-19T00:00:00",
          "2017-02-26T00:00:00",
          "2017-03-05T00:00:00",
          "2017-03-12T00:00:00",
          "2017-03-19T00:00:00",
          "2017-03-26T00:00:00",
          "2017-04-02T00:00:00",
          "2017-04-09T00:00:00",
          "2017-04-16T00:00:00",
          "2017-04-23T00:00:00",
          "2017-04-30T00:00:00",
          "2017-05-07T00:00:00",
          "2017-05-14T00:00:00",
          "2017-05-21T00:00:00",
          "2017-05-28T00:00:00",
          "2017-06-04T00:00:00",
          "2017-06-11T00:00:00",
          "2017-06-18T00:00:00",
          "2017-06-25T00:00:00",
          "2017-07-02T00:00:00",
          "2017-07-09T00:00:00",
          "2017-07-16T00:00:00",
          "2017-07-23T00:00:00",
          "2017-07-30T00:00:00",
          "2017-08-06T00:00:00",
          "2017-08-13T00:00:00",
          "2017-08-20T00:00:00",
          "2017-08-27T00:00:00",
          "2017-09-03T00:00:00",
          "2017-09-10T00:00:00",
          "2017-09-17T00:00:00",
          "2017-09-24T00:00:00",
          "2017-10-01T00:00:00",
          "2017-10-08T00:00:00",
          "2017-10-15T00:00:00",
          "2017-10-22T00:00:00",
          "2017-10-29T00:00:00",
          "2017-11-05T00:00:00",
          "2017-11-12T00:00:00",
          "2017-11-19T00:00:00",
          "2017-11-26T00:00:00",
          "2017-12-03T00:00:00",
          "2017-12-10T00:00:00",
          "2017-12-17T00:00:00",
          "2017-12-24T00:00:00",
          "2017-12-31T00:00:00",
          "2018-01-07T00:00:00",
          "2018-01-14T00:00:00",
          "2018-01-21T00:00:00",
          "2018-01-28T00:00:00",
          "2018-02-04T00:00:00",
          "2018-02-11T00:00:00",
          "2018-02-18T00:00:00",
          "2018-02-25T00:00:00",
          "2018-03-04T00:00:00",
          "2018-03-11T00:00:00",
          "2018-03-18T00:00:00",
          "2018-03-25T00:00:00",
          "2018-04-01T00:00:00",
          "2018-04-08T00:00:00",
          "2018-04-15T00:00:00",
          "2018-04-22T00:00:00",
          "2018-04-29T00:00:00",
          "2018-05-06T00:00:00",
          "2018-05-13T00:00:00",
          "2018-05-20T00:00:00",
          "2018-05-27T00:00:00",
          "2018-06-03T00:00:00",
          "2018-06-10T00:00:00",
          "2018-06-17T00:00:00",
          "2018-06-24T00:00:00",
          "2018-07-01T00:00:00",
          "2018-07-08T00:00:00",
          "2018-07-15T00:00:00",
          "2018-07-22T00:00:00",
          "2018-07-29T00:00:00",
          "2018-08-05T00:00:00",
          "2018-08-12T00:00:00",
          "2018-08-19T00:00:00",
          "2018-08-26T00:00:00",
          "2018-09-02T00:00:00",
          "2018-09-09T00:00:00",
          "2018-09-16T00:00:00",
          "2018-09-23T00:00:00",
          "2018-09-30T00:00:00",
          "2018-10-07T00:00:00",
          "2018-10-14T00:00:00",
          "2018-10-21T00:00:00",
          "2018-10-28T00:00:00",
          "2018-11-04T00:00:00",
          "2018-11-11T00:00:00",
          "2018-11-18T00:00:00",
          "2018-11-25T00:00:00",
          "2018-12-02T00:00:00",
          "2018-12-09T00:00:00",
          "2018-12-16T00:00:00",
          "2018-12-23T00:00:00",
          "2018-12-30T00:00:00",
          "2019-01-06T00:00:00",
          "2019-01-13T00:00:00",
          "2019-01-20T00:00:00",
          "2019-01-27T00:00:00",
          "2019-02-03T00:00:00",
          "2019-02-10T00:00:00",
          "2019-02-17T00:00:00",
          "2019-02-24T00:00:00",
          "2019-03-03T00:00:00",
          "2019-03-10T00:00:00",
          "2019-03-17T00:00:00",
          "2019-03-24T00:00:00",
          "2019-03-31T00:00:00",
          "2019-04-07T00:00:00",
          "2019-04-14T00:00:00",
          "2019-04-21T00:00:00",
          "2019-04-28T00:00:00",
          "2019-05-05T00:00:00",
          "2019-05-12T00:00:00",
          "2019-05-19T00:00:00",
          "2019-05-26T00:00:00",
          "2019-06-02T00:00:00",
          "2019-06-09T00:00:00",
          "2019-06-16T00:00:00",
          "2019-06-23T00:00:00",
          "2019-06-30T00:00:00",
          "2019-07-07T00:00:00",
          "2019-07-14T00:00:00",
          "2019-07-21T00:00:00",
          "2019-07-28T00:00:00",
          "2019-08-04T00:00:00",
          "2019-08-11T00:00:00",
          "2019-08-18T00:00:00",
          "2019-08-25T00:00:00",
          "2019-09-01T00:00:00",
          "2019-09-08T00:00:00",
          "2019-09-15T00:00:00",
          "2019-09-22T00:00:00",
          "2019-09-29T00:00:00",
          "2019-10-06T00:00:00",
          "2019-10-13T00:00:00",
          "2019-10-20T00:00:00",
          "2019-10-27T00:00:00",
          "2019-11-03T00:00:00",
          "2019-11-10T00:00:00",
          "2019-11-17T00:00:00",
          "2019-11-24T00:00:00",
          "2019-12-01T00:00:00",
          "2019-12-08T00:00:00",
          "2019-12-15T00:00:00",
          "2019-12-22T00:00:00",
          "2019-12-29T00:00:00",
          "2020-01-05T00:00:00",
          "2020-01-12T00:00:00",
          "2020-01-19T00:00:00",
          "2020-01-26T00:00:00",
          "2020-02-02T00:00:00",
          "2020-02-09T00:00:00",
          "2020-02-16T00:00:00",
          "2020-02-23T00:00:00",
          "2020-03-01T00:00:00",
          "2020-03-08T00:00:00",
          "2020-03-15T00:00:00",
          "2020-03-22T00:00:00",
          "2020-03-29T00:00:00",
          "2020-04-05T00:00:00",
          "2020-04-12T00:00:00",
          "2020-04-19T00:00:00",
          "2020-04-26T00:00:00",
          "2020-05-03T00:00:00",
          "2020-05-10T00:00:00",
          "2020-05-17T00:00:00",
          "2020-05-24T00:00:00",
          "2020-05-31T00:00:00",
          "2020-06-07T00:00:00",
          "2020-06-14T00:00:00",
          "2020-06-21T00:00:00",
          "2020-06-28T00:00:00",
          "2020-07-05T00:00:00",
          "2020-07-12T00:00:00",
          "2020-07-19T00:00:00",
          "2020-07-26T00:00:00",
          "2020-08-02T00:00:00",
          "2020-08-09T00:00:00",
          "2020-08-16T00:00:00",
          "2020-08-23T00:00:00",
          "2020-08-30T00:00:00",
          "2020-09-06T00:00:00",
          "2020-09-13T00:00:00",
          "2020-09-20T00:00:00",
          "2020-09-27T00:00:00",
          "2020-10-04T00:00:00",
          "2020-10-11T00:00:00",
          "2020-10-18T00:00:00",
          "2020-10-25T00:00:00",
          "2020-11-01T00:00:00",
          "2020-11-08T00:00:00",
          "2020-11-15T00:00:00",
          "2020-11-22T00:00:00",
          "2020-11-29T00:00:00",
          "2020-12-06T00:00:00",
          "2020-12-13T00:00:00",
          "2020-12-20T00:00:00",
          "2020-12-27T00:00:00",
          "2021-01-03T00:00:00",
          "2021-01-10T00:00:00",
          "2021-01-17T00:00:00",
          "2021-01-24T00:00:00",
          "2021-01-31T00:00:00",
          "2021-02-07T00:00:00",
          "2021-02-14T00:00:00",
          "2021-02-21T00:00:00",
          "2021-02-28T00:00:00",
          "2021-03-07T00:00:00",
          "2021-03-14T00:00:00",
          "2021-03-21T00:00:00",
          "2021-03-28T00:00:00",
          "2021-04-04T00:00:00",
          "2021-04-11T00:00:00",
          "2021-04-18T00:00:00",
          "2021-04-25T00:00:00",
          "2021-05-02T00:00:00",
          "2021-05-09T00:00:00",
          "2021-05-16T00:00:00",
          "2021-05-23T00:00:00",
          "2021-05-30T00:00:00",
          "2021-06-06T00:00:00",
          "2021-06-13T00:00:00",
          "2021-06-20T00:00:00",
          "2021-06-27T00:00:00",
          "2021-07-04T00:00:00",
          "2021-07-11T00:00:00",
          "2021-07-18T00:00:00",
          "2021-07-25T00:00:00",
          "2021-08-01T00:00:00",
          "2021-08-08T00:00:00",
          "2021-08-15T00:00:00",
          "2021-08-22T00:00:00",
          "2021-08-29T00:00:00",
          "2021-09-05T00:00:00",
          "2021-09-12T00:00:00",
          "2021-09-19T00:00:00",
          "2021-09-26T00:00:00",
          "2021-10-03T00:00:00",
          "2021-10-10T00:00:00",
          "2021-10-17T00:00:00",
          "2021-10-24T00:00:00",
          "2021-10-31T00:00:00",
          "2021-11-07T00:00:00",
          "2021-11-14T00:00:00",
          "2021-11-21T00:00:00",
          "2021-11-28T00:00:00",
          "2021-12-05T00:00:00",
          "2021-12-12T00:00:00",
          "2021-12-19T00:00:00",
          "2021-12-26T00:00:00"
         ],
         "xaxis": "x",
         "y": [
          0,
          0,
          0,
          0,
          0.01555492316448492,
          0,
          0,
          0,
          0,
          0,
          0,
          0,
          0,
          0,
          0,
          0,
          0,
          0.01555492316448492,
          0.01555492316448492,
          0.01555492316448492,
          0,
          0.01555492316448492,
          0.01555492316448492,
          0.02592487194080819,
          0,
          0,
          0,
          0,
          0,
          0,
          0,
          0,
          0.01555492316448492,
          0,
          0,
          0,
          0,
          0,
          0,
          0,
          0,
          0,
          0,
          0,
          0,
          0,
          0,
          0,
          0,
          0.01555492316448492,
          0,
          0,
          0.01555492316448492,
          0,
          0,
          0.01555492316448492,
          0.01555492316448492,
          0,
          0.01555492316448492,
          0,
          0,
          0,
          0,
          0,
          0,
          0.01555492316448492,
          0,
          0,
          0,
          0.01555492316448492,
          0.01555492316448492,
          0,
          0,
          0,
          0.01555492316448492,
          0.01555492316448492,
          0,
          0,
          0,
          0,
          0.01555492316448492,
          0.01555492316448492,
          0,
          0,
          0.01555492316448492,
          0,
          0,
          0,
          0,
          0.01555492316448492,
          0.01555492316448492,
          0,
          0.02592487194080819,
          0.04147979510529311,
          0.03759106431417188,
          0.03370233352305065,
          0.02981360273192942,
          0.02592487194080819,
          0.02592487194080819,
          0.05184974388161638,
          0.05184974388161638,
          0.05184974388161638,
          0.04536852589641433,
          0.03888730791121228,
          0.03240608992601024,
          0.02592487194080819,
          0.02592487194080819,
          0.03629482071713147,
          0,
          0.01036994877632328,
          0.08295959021058621,
          0.04666476949345474,
          0.03629482071713147,
          0.08295959021058621,
          0.02592487194080819,
          0.06221969265793966,
          0.01036994877632328,
          0.02592487194080819,
          0.03629482071713147,
          0,
          0.02592487194080819,
          0.02981360273192942,
          0.03370233352305065,
          0.03759106431417188,
          0.04147979510529311,
          0.01555492316448492,
          0.01036994877632328,
          0.04147979510529311,
          0.05184974388161638,
          0.1607342060330108,
          0.07777461582242458,
          0.06481217985202048,
          0.05184974388161638,
          0.03888730791121228,
          0.02592487194080819,
          0.07777461582242458,
          0.05184974388161638,
          0.05184974388161638,
          0.05184974388161638,
          0.03629482071713147,
          0.05184974388161638,
          0.07258964143426294,
          0.06221969265793966,
          0.08814456459874785,
          0.1088844621513944,
          0.09851451337507112,
          0.07258964143426294,
          0.07258964143426294,
          0.07777461582242458,
          0.08295959021058621,
          0.08814456459874785,
          0.09332953898690949,
          0.1659191804211724,
          0.06221969265793966,
          0.1399943084803642,
          0.1036994877632328,
          0.101107000569152,
          0.09851451337507114,
          0.09592202618099031,
          0.09332953898690949,
          0.114069436539556,
          0.08295959021058621,
          0.0674046670461013,
          0.114069436539556,
          0.1607342060330108,
          0.07777461582242458,
          0.04666476949345474,
          0.02073989755264655,
          0.02592487194080819,
          0.07258964143426294,
          0.04666476949345474,
          0.0674046670461013,
          0.1036994877632328,
          0.04666476949345474,
          0.0674046670461013,
          0.0674046670461013,
          0.07258964143426294,
          0.1036994877632328,
          0.04666476949345474,
          0.1814741035856574,
          0.0674046670461013,
          0.09332953898690949,
          0.0674046670461013,
          0.1244393853158793,
          0.09332953898690949,
          0.1088844621513944,
          0.09332953898690949,
          0.0674046670461013,
          0.1036994877632328,
          0.08295959021058621,
          0.1036994877632328,
          0.04666476949345474,
          0.07777461582242458,
          0.04666476949345474,
          0.05703471826977802,
          0.1036994877632328,
          0.09332953898690949,
          0.129624359704041,
          0.1244393853158793,
          0.08295959021058621,
          0.08814456459874785,
          0.114069436539556,
          0.114069436539556,
          0.1451792828685259,
          0.2073989755264655,
          0.1905492316448491,
          0.1736994877632327,
          0.1927746158224246,
          0.2118497438816164,
          0.2309248719408082,
          0.25,
          0.09,
          0.13,
          0.11,
          0.15,
          0.17,
          0.16,
          0.15,
          0.14,
          0.09999999999999999,
          0.16,
          0.11,
          0.18,
          0.13,
          0.21,
          0.08,
          0.13,
          0.24,
          0.18,
          0.14,
          0.16,
          0.18,
          0.2,
          0.22,
          0.23,
          0.09999999999999999,
          0.11,
          0.15,
          0.12,
          0.14,
          0.22,
          0.09,
          0.0975,
          0.105,
          0.1125,
          0.12,
          0.18,
          0.2,
          0.13,
          0.09999999999999999,
          0.09999999999999999,
          0.15,
          0.1475,
          0.145,
          0.1425,
          0.14,
          0.15,
          0.13,
          0.12125,
          0.1125,
          0.10375,
          0.095,
          0.1075,
          0.12,
          0.12,
          0.21,
          0.16,
          0.1575,
          0.155,
          0.1525,
          0.15,
          0.11,
          0.09,
          0.18,
          0.09999999999999999,
          0.13,
          0.14,
          0.17,
          0.12,
          0.24,
          0.14,
          0.09999999999999999,
          0.16,
          0.26,
          0.18,
          0.09999999999999999,
          0.18,
          0.205,
          0.23,
          0.255,
          0.28,
          0.31,
          0.18,
          0.26,
          0.23,
          0.2,
          0.17,
          0.14,
          0.27,
          0.09,
          0.09,
          0.11,
          0.14,
          0.11,
          0.12,
          0.18,
          0.14,
          0.16,
          0.16375,
          0.1675,
          0.17125,
          0.1759375,
          0.180625,
          0.1853125,
          0.19,
          0.24,
          0.2,
          0.21,
          0.22,
          0.23,
          0.24,
          0.2,
          0.17,
          0.17,
          0.2,
          0.15,
          0.12,
          0.16,
          0.18,
          0.17,
          0.09,
          0.15,
          0.16,
          0.09999999999999999,
          0.14,
          0.11,
          0.27,
          0.16,
          0.19,
          0.24,
          0.2,
          0.09999999999999999,
          0.11,
          0.13,
          0.12,
          0.22,
          0.11,
          0.18,
          0.16,
          0.15,
          0.09,
          0.14,
          0.23,
          0.19,
          0.2,
          0.17,
          0.17,
          0.08,
          0.11,
          0.09,
          0.09,
          0.13,
          0.2,
          0.06999999999999999,
          0.12
         ],
         "yaxis": "y"
        },
        {
         "hovertemplate": "variable=Prediction<br>Time since founding=%{x}<br>value=%{y}<extra></extra>",
         "legendgroup": "Prediction",
         "line": {
          "color": "#EF553B",
          "dash": "solid"
         },
         "marker": {
          "symbol": "circle"
         },
         "mode": "lines",
         "name": "Prediction",
         "orientation": "v",
         "showlegend": true,
         "type": "scatter",
         "x": [
          "2015-01-04T00:00:00",
          "2015-01-11T00:00:00",
          "2015-01-18T00:00:00",
          "2015-01-25T00:00:00",
          "2015-02-01T00:00:00",
          "2015-02-08T00:00:00",
          "2015-02-15T00:00:00",
          "2015-02-22T00:00:00",
          "2015-03-01T00:00:00",
          "2015-03-08T00:00:00",
          "2015-03-15T00:00:00",
          "2015-03-22T00:00:00",
          "2015-03-29T00:00:00",
          "2015-04-05T00:00:00",
          "2015-04-12T00:00:00",
          "2015-04-19T00:00:00",
          "2015-04-26T00:00:00",
          "2015-05-03T00:00:00",
          "2015-05-10T00:00:00",
          "2015-05-17T00:00:00",
          "2015-05-24T00:00:00",
          "2015-05-31T00:00:00",
          "2015-06-07T00:00:00",
          "2015-06-14T00:00:00",
          "2015-06-21T00:00:00",
          "2015-06-28T00:00:00",
          "2015-07-05T00:00:00",
          "2015-07-12T00:00:00",
          "2015-07-19T00:00:00",
          "2015-07-26T00:00:00",
          "2015-08-02T00:00:00",
          "2015-08-09T00:00:00",
          "2015-08-16T00:00:00",
          "2015-08-23T00:00:00",
          "2015-08-30T00:00:00",
          "2015-09-06T00:00:00",
          "2015-09-13T00:00:00",
          "2015-09-20T00:00:00",
          "2015-09-27T00:00:00",
          "2015-10-04T00:00:00",
          "2015-10-11T00:00:00",
          "2015-10-18T00:00:00",
          "2015-10-25T00:00:00",
          "2015-11-01T00:00:00",
          "2015-11-08T00:00:00",
          "2015-11-15T00:00:00",
          "2015-11-22T00:00:00",
          "2015-11-29T00:00:00",
          "2015-12-06T00:00:00",
          "2015-12-13T00:00:00",
          "2015-12-20T00:00:00",
          "2015-12-27T00:00:00",
          "2016-01-03T00:00:00",
          "2016-01-10T00:00:00",
          "2016-01-17T00:00:00",
          "2016-01-24T00:00:00",
          "2016-01-31T00:00:00",
          "2016-02-07T00:00:00",
          "2016-02-14T00:00:00",
          "2016-02-21T00:00:00",
          "2016-02-28T00:00:00",
          "2016-03-06T00:00:00",
          "2016-03-13T00:00:00",
          "2016-03-20T00:00:00",
          "2016-03-27T00:00:00",
          "2016-04-03T00:00:00",
          "2016-04-10T00:00:00",
          "2016-04-17T00:00:00",
          "2016-04-24T00:00:00",
          "2016-05-01T00:00:00",
          "2016-05-08T00:00:00",
          "2016-05-15T00:00:00",
          "2016-05-22T00:00:00",
          "2016-05-29T00:00:00",
          "2016-06-05T00:00:00",
          "2016-06-12T00:00:00",
          "2016-06-19T00:00:00",
          "2016-06-26T00:00:00",
          "2016-07-03T00:00:00",
          "2016-07-10T00:00:00",
          "2016-07-17T00:00:00",
          "2016-07-24T00:00:00",
          "2016-07-31T00:00:00",
          "2016-08-07T00:00:00",
          "2016-08-14T00:00:00",
          "2016-08-21T00:00:00",
          "2016-08-28T00:00:00",
          "2016-09-04T00:00:00",
          "2016-09-11T00:00:00",
          "2016-09-18T00:00:00",
          "2016-09-25T00:00:00",
          "2016-10-02T00:00:00",
          "2016-10-09T00:00:00",
          "2016-10-16T00:00:00",
          "2016-10-23T00:00:00",
          "2016-10-30T00:00:00",
          "2016-11-06T00:00:00",
          "2016-11-13T00:00:00",
          "2016-11-20T00:00:00",
          "2016-11-27T00:00:00",
          "2016-12-04T00:00:00",
          "2016-12-11T00:00:00",
          "2016-12-18T00:00:00",
          "2016-12-25T00:00:00",
          "2017-01-01T00:00:00",
          "2017-01-08T00:00:00",
          "2017-01-15T00:00:00",
          "2017-01-22T00:00:00",
          "2017-01-29T00:00:00",
          "2017-02-05T00:00:00",
          "2017-02-12T00:00:00",
          "2017-02-19T00:00:00",
          "2017-02-26T00:00:00",
          "2017-03-05T00:00:00",
          "2017-03-12T00:00:00",
          "2017-03-19T00:00:00",
          "2017-03-26T00:00:00",
          "2017-04-02T00:00:00",
          "2017-04-09T00:00:00",
          "2017-04-16T00:00:00",
          "2017-04-23T00:00:00",
          "2017-04-30T00:00:00",
          "2017-05-07T00:00:00",
          "2017-05-14T00:00:00",
          "2017-05-21T00:00:00",
          "2017-05-28T00:00:00",
          "2017-06-04T00:00:00",
          "2017-06-11T00:00:00",
          "2017-06-18T00:00:00",
          "2017-06-25T00:00:00",
          "2017-07-02T00:00:00",
          "2017-07-09T00:00:00",
          "2017-07-16T00:00:00",
          "2017-07-23T00:00:00",
          "2017-07-30T00:00:00",
          "2017-08-06T00:00:00",
          "2017-08-13T00:00:00",
          "2017-08-20T00:00:00",
          "2017-08-27T00:00:00",
          "2017-09-03T00:00:00",
          "2017-09-10T00:00:00",
          "2017-09-17T00:00:00",
          "2017-09-24T00:00:00",
          "2017-10-01T00:00:00",
          "2017-10-08T00:00:00",
          "2017-10-15T00:00:00",
          "2017-10-22T00:00:00",
          "2017-10-29T00:00:00",
          "2017-11-05T00:00:00",
          "2017-11-12T00:00:00",
          "2017-11-19T00:00:00",
          "2017-11-26T00:00:00",
          "2017-12-03T00:00:00",
          "2017-12-10T00:00:00",
          "2017-12-17T00:00:00",
          "2017-12-24T00:00:00",
          "2017-12-31T00:00:00",
          "2018-01-07T00:00:00",
          "2018-01-14T00:00:00",
          "2018-01-21T00:00:00",
          "2018-01-28T00:00:00",
          "2018-02-04T00:00:00",
          "2018-02-11T00:00:00",
          "2018-02-18T00:00:00",
          "2018-02-25T00:00:00",
          "2018-03-04T00:00:00",
          "2018-03-11T00:00:00",
          "2018-03-18T00:00:00",
          "2018-03-25T00:00:00",
          "2018-04-01T00:00:00",
          "2018-04-08T00:00:00",
          "2018-04-15T00:00:00",
          "2018-04-22T00:00:00",
          "2018-04-29T00:00:00",
          "2018-05-06T00:00:00",
          "2018-05-13T00:00:00",
          "2018-05-20T00:00:00",
          "2018-05-27T00:00:00",
          "2018-06-03T00:00:00",
          "2018-06-10T00:00:00",
          "2018-06-17T00:00:00",
          "2018-06-24T00:00:00",
          "2018-07-01T00:00:00",
          "2018-07-08T00:00:00",
          "2018-07-15T00:00:00",
          "2018-07-22T00:00:00",
          "2018-07-29T00:00:00",
          "2018-08-05T00:00:00",
          "2018-08-12T00:00:00",
          "2018-08-19T00:00:00",
          "2018-08-26T00:00:00",
          "2018-09-02T00:00:00",
          "2018-09-09T00:00:00",
          "2018-09-16T00:00:00",
          "2018-09-23T00:00:00",
          "2018-09-30T00:00:00",
          "2018-10-07T00:00:00",
          "2018-10-14T00:00:00",
          "2018-10-21T00:00:00",
          "2018-10-28T00:00:00",
          "2018-11-04T00:00:00",
          "2018-11-11T00:00:00",
          "2018-11-18T00:00:00",
          "2018-11-25T00:00:00",
          "2018-12-02T00:00:00",
          "2018-12-09T00:00:00",
          "2018-12-16T00:00:00",
          "2018-12-23T00:00:00",
          "2018-12-30T00:00:00",
          "2019-01-06T00:00:00",
          "2019-01-13T00:00:00",
          "2019-01-20T00:00:00",
          "2019-01-27T00:00:00",
          "2019-02-03T00:00:00",
          "2019-02-10T00:00:00",
          "2019-02-17T00:00:00",
          "2019-02-24T00:00:00",
          "2019-03-03T00:00:00",
          "2019-03-10T00:00:00",
          "2019-03-17T00:00:00",
          "2019-03-24T00:00:00",
          "2019-03-31T00:00:00",
          "2019-04-07T00:00:00",
          "2019-04-14T00:00:00",
          "2019-04-21T00:00:00",
          "2019-04-28T00:00:00",
          "2019-05-05T00:00:00",
          "2019-05-12T00:00:00",
          "2019-05-19T00:00:00",
          "2019-05-26T00:00:00",
          "2019-06-02T00:00:00",
          "2019-06-09T00:00:00",
          "2019-06-16T00:00:00",
          "2019-06-23T00:00:00",
          "2019-06-30T00:00:00",
          "2019-07-07T00:00:00",
          "2019-07-14T00:00:00",
          "2019-07-21T00:00:00",
          "2019-07-28T00:00:00",
          "2019-08-04T00:00:00",
          "2019-08-11T00:00:00",
          "2019-08-18T00:00:00",
          "2019-08-25T00:00:00",
          "2019-09-01T00:00:00",
          "2019-09-08T00:00:00",
          "2019-09-15T00:00:00",
          "2019-09-22T00:00:00",
          "2019-09-29T00:00:00",
          "2019-10-06T00:00:00",
          "2019-10-13T00:00:00",
          "2019-10-20T00:00:00",
          "2019-10-27T00:00:00",
          "2019-11-03T00:00:00",
          "2019-11-10T00:00:00",
          "2019-11-17T00:00:00",
          "2019-11-24T00:00:00",
          "2019-12-01T00:00:00",
          "2019-12-08T00:00:00",
          "2019-12-15T00:00:00",
          "2019-12-22T00:00:00",
          "2019-12-29T00:00:00",
          "2020-01-05T00:00:00",
          "2020-01-12T00:00:00",
          "2020-01-19T00:00:00",
          "2020-01-26T00:00:00",
          "2020-02-02T00:00:00",
          "2020-02-09T00:00:00",
          "2020-02-16T00:00:00",
          "2020-02-23T00:00:00",
          "2020-03-01T00:00:00",
          "2020-03-08T00:00:00",
          "2020-03-15T00:00:00",
          "2020-03-22T00:00:00",
          "2020-03-29T00:00:00",
          "2020-04-05T00:00:00",
          "2020-04-12T00:00:00",
          "2020-04-19T00:00:00",
          "2020-04-26T00:00:00",
          "2020-05-03T00:00:00",
          "2020-05-10T00:00:00",
          "2020-05-17T00:00:00",
          "2020-05-24T00:00:00",
          "2020-05-31T00:00:00",
          "2020-06-07T00:00:00",
          "2020-06-14T00:00:00",
          "2020-06-21T00:00:00",
          "2020-06-28T00:00:00",
          "2020-07-05T00:00:00",
          "2020-07-12T00:00:00",
          "2020-07-19T00:00:00",
          "2020-07-26T00:00:00",
          "2020-08-02T00:00:00",
          "2020-08-09T00:00:00",
          "2020-08-16T00:00:00",
          "2020-08-23T00:00:00",
          "2020-08-30T00:00:00",
          "2020-09-06T00:00:00",
          "2020-09-13T00:00:00",
          "2020-09-20T00:00:00",
          "2020-09-27T00:00:00",
          "2020-10-04T00:00:00",
          "2020-10-11T00:00:00",
          "2020-10-18T00:00:00",
          "2020-10-25T00:00:00",
          "2020-11-01T00:00:00",
          "2020-11-08T00:00:00",
          "2020-11-15T00:00:00",
          "2020-11-22T00:00:00",
          "2020-11-29T00:00:00",
          "2020-12-06T00:00:00",
          "2020-12-13T00:00:00",
          "2020-12-20T00:00:00",
          "2020-12-27T00:00:00",
          "2021-01-03T00:00:00",
          "2021-01-10T00:00:00",
          "2021-01-17T00:00:00",
          "2021-01-24T00:00:00",
          "2021-01-31T00:00:00",
          "2021-02-07T00:00:00",
          "2021-02-14T00:00:00",
          "2021-02-21T00:00:00",
          "2021-02-28T00:00:00",
          "2021-03-07T00:00:00",
          "2021-03-14T00:00:00",
          "2021-03-21T00:00:00",
          "2021-03-28T00:00:00",
          "2021-04-04T00:00:00",
          "2021-04-11T00:00:00",
          "2021-04-18T00:00:00",
          "2021-04-25T00:00:00",
          "2021-05-02T00:00:00",
          "2021-05-09T00:00:00",
          "2021-05-16T00:00:00",
          "2021-05-23T00:00:00",
          "2021-05-30T00:00:00",
          "2021-06-06T00:00:00",
          "2021-06-13T00:00:00",
          "2021-06-20T00:00:00",
          "2021-06-27T00:00:00",
          "2021-07-04T00:00:00",
          "2021-07-11T00:00:00",
          "2021-07-18T00:00:00",
          "2021-07-25T00:00:00",
          "2021-08-01T00:00:00",
          "2021-08-08T00:00:00",
          "2021-08-15T00:00:00",
          "2021-08-22T00:00:00",
          "2021-08-29T00:00:00",
          "2021-09-05T00:00:00",
          "2021-09-12T00:00:00",
          "2021-09-19T00:00:00",
          "2021-09-26T00:00:00",
          "2021-10-03T00:00:00",
          "2021-10-10T00:00:00",
          "2021-10-17T00:00:00",
          "2021-10-24T00:00:00",
          "2021-10-31T00:00:00",
          "2021-11-07T00:00:00",
          "2021-11-14T00:00:00",
          "2021-11-21T00:00:00",
          "2021-11-28T00:00:00",
          "2021-12-05T00:00:00",
          "2021-12-12T00:00:00",
          "2021-12-19T00:00:00",
          "2021-12-26T00:00:00"
         ],
         "xaxis": "x",
         "y": [
          0,
          0,
          0,
          0,
          0.006148923764176976,
          0.0033051635386679556,
          0.0018993351446866212,
          0.0011890418452551196,
          0.0008194303486854249,
          0.0006185480492920559,
          0.000502357755853622,
          0.00042950168635183105,
          0.0003794737731779588,
          0.0003420071135339389,
          0.0003118879952454957,
          0.00028641152632962326,
          0.00026412856568752615,
          0.0056420111105963365,
          0.0084661602040168,
          0.010016826424724186,
          0.005561742955355907,
          0.008675361468638362,
          0.010349378526985219,
          0.014865040642126013,
          0.008431522774665457,
          0.005177500976023714,
          0.0034997710561201732,
          0.0026058919902140045,
          0.002103951844845398,
          0.0017999469445527398,
          0.0015976880617581673,
          0.0014493468180697164,
          0.006646944300287618,
          0.0040336449650656605,
          0.002690876080476154,
          0.0019796735658873616,
          0.0015839381447834261,
          0.0013471821794856817,
          0.0011918343787113228,
          0.0010793502676585715,
          0.0009904926177025672,
          0.0009155821639822129,
          0.0008496769884979316,
          0.0007901884327059241,
          0.0007357016006902089,
          0.0006853914460161763,
          0.0006387333693108221,
          0.000595359479347263,
          0.0005549869247940752,
          0.005823373638531439,
          0.0032790317855985376,
          0.001993992914560283,
          0.0066390588055385245,
          0.003779757664965128,
          0.0023324015497991433,
          0.006890842065853381,
          0.009288540417085525,
          0.005302859502801167,
          0.008589441870212442,
          0.005037500843603207,
          0.003227833328675391,
          0.0022832126612060775,
          0.001769669546831214,
          0.0014724093525513118,
          0.001285018724206963,
          0.006459777466877535,
          0.0038512307055186337,
          0.0025170232984146014,
          0.0018158940030582379,
          0.00673562768868261,
          0.009305160326288683,
          0.005398381317807004,
          0.003412799234962051,
          0.0023807627095060414,
          0.007128605420568793,
          0.009605457802280386,
          0.005645706125691348,
          0.0036272462980809312,
          0.0025727203379951854,
          0.001998614978386584,
          0.006970615258534997,
          0.009556204649069342,
          0.005648266955220993,
          0.003653604029479995,
          0.00791415082449356,
          0.004834498386497752,
          0.0032494918292390925,
          0.002407698888678136,
          0.0019373041066680975,
          0.006959210060488951,
          0.009568195199116575,
          0.005670632490420222,
          0.012521662412800807,
          0.021443262586157648,
          0.024914961586724634,
          0.025622622729944436,
          0.02489891357339385,
          0.02340712410557882,
          0.022805539326833643,
          0.0314765732228513,
          0.0361705293896182,
          0.038870587144900645,
          0.03834873112913689,
          0.03613781866439036,
          0.03300223666694754,
          0.029325978175440946,
          0.02751496729283048,
          0.030162410586174117,
          0.019214218678093548,
          0.017046835628247946,
          0.04057605166078869,
          0.04049378399603379,
          0.03713023444992434,
          0.051466137685918595,
          0.03970012841423877,
          0.04618342972128053,
          0.03203720700108131,
          0.030080026575790137,
          0.03257236440878829,
          0.021470252255558795,
          0.024459764342119217,
          0.027214237510815177,
          0.029899152621321135,
          0.03259317248272256,
          0.03533224798076018,
          0.027963484708006064,
          0.02237390442290914,
          0.02999668065322135,
          0.03744004193747502,
          0.07849914880810499,
          0.07194575927377539,
          0.06470326065068974,
          0.05694747515216509,
          0.04877700807760964,
          0.040251496746610334,
          0.05351476291443702,
          0.05161691024674318,
          0.05074999411553224,
          0.050387970885224384,
          0.04496607097620176,
          0.04747511688365753,
          0.05585469586684426,
          0.056753200671225426,
          0.06619602287351183,
          0.07837297768615538,
          0.08149316090889988,
          0.07467196055957644,
          0.07145628495088013,
          0.07178100650343208,
          0.07390401115505724,
          0.07696071257288017,
          0.08052061870556436,
          0.1073564255482897,
          0.08636340768695913,
          0.10238529366546159,
          0.09867898385754381,
          0.0962579670190221,
          0.09442358494013833,
          0.09283370505126905,
          0.09132224800645017,
          0.09776747946918585,
          0.09068613380978821,
          0.08185250090204803,
          0.09320124778685646,
          0.11506153011400555,
          0.09840738313638214,
          0.07941445478527928,
          0.06069732929820934,
          0.052470853250165046,
          0.06368573909269953,
          0.060318451157010046,
          0.0653725778824554,
          0.08015028877946583,
          0.06831625622323145,
          0.06919383188727746,
          0.06953719134817699,
          0.07139087820212936,
          0.08289640453886502,
          0.06946003288381197,
          0.10846321013617514,
          0.09003659912289551,
          0.08960990863849529,
          0.08069874572481142,
          0.09558788039617204,
          0.09282822353154357,
          0.09687821677797195,
          0.093850799531066,
          0.08359570800289567,
          0.09069289900363597,
          0.08733606611145397,
          0.09271228807970175,
          0.07611470960004826,
          0.07806633574414511,
          0.06834601663652778,
          0.06666029169096006,
          0.081469025605974,
          0.08551920910629357,
          0.10003173150344177,
          0.10596548363654677,
          0.09518596376998292,
          0.09156698144334244,
          0.098623320160582,
          0.1024044256514306,
          0.11515640059290788,
          0.14328163882434497,
          0.15269308814670118,
          0.1525796687958179,
          0.15975524178287484,
          0.17069787919765048,
          0.18365519844077893,
          0.1977504788276961,
          0.15146709392249286,
          0.14167106661921347,
          0.1299351163755066,
          0.1374852614099144,
          0.14821474994536843,
          0.150495413268535,
          0.1484613145457947,
          0.1441657516549489,
          0.12840110504583854,
          0.14062555280810168,
          0.12987092349150012,
          0.1481071337916342,
          0.1405519517611604,
          0.1639922577680193,
          0.13203480770247744,
          0.13257587949185537,
          0.17025270019933872,
          0.16954342342377576,
          0.15593207189823977,
          0.1559335917387081,
          0.16289435946387348,
          0.1735091612084636,
          0.18612938157136186,
          0.19651595261772375,
          0.15811264116262203,
          0.14183242182938888,
          0.14688085172687626,
          0.1390832712169552,
          0.14165707465883917,
          0.17007087686904948,
          0.14054023609786365,
          0.12775651986124087,
          0.1233865534918798,
          0.12330113438680203,
          0.12545023863804056,
          0.1467175392034959,
          0.16448065659179978,
          0.15001041209689647,
          0.13242402414383633,
          0.1232081031707562,
          0.1352185048916692,
          0.14040799763280762,
          0.14219018664390584,
          0.14225521592646123,
          0.14144094009129496,
          0.14442679191604324,
          0.13917282337617065,
          0.13345293767821226,
          0.12741464347763015,
          0.12113682924894027,
          0.11466405274480794,
          0.11527083238847913,
          0.11954791317070701,
          0.12153503832653655,
          0.15309306408036621,
          0.15253448850639933,
          0.15167968621421887,
          0.15063206335755616,
          0.1494458828391614,
          0.14815089756669775,
          0.13397517287582533,
          0.11979945997079587,
          0.1429400541345525,
          0.12759092693172214,
          0.12980313292476736,
          0.13424015534205141,
          0.14671403060467614,
          0.13620815530719477,
          0.17173679701399505,
          0.15634449355594904,
          0.1350479250553688,
          0.14449492984108644,
          0.1834850995489567,
          0.17679170549851347,
          0.14653189056905633,
          0.1582752382708529,
          0.17295795193195493,
          0.18934851089940308,
          0.20682079694485722,
          0.22504918533792367,
          0.24556295962569816,
          0.21288669895085868,
          0.22398276333367695,
          0.22009814064209962,
          0.2084145347617227,
          0.19250931446737451,
          0.17417596506124428,
          0.2088922789348463,
          0.16559679972489286,
          0.14305292317267115,
          0.13766718171223596,
          0.14446973708092462,
          0.13722124365969743,
          0.13635935376359484,
          0.15586554936556113,
          0.15204097493043386,
          0.15668711183560155,
          0.16022114086445619,
          0.16324989251629393,
          0.16607038591341863,
          0.1691463986027181,
          0.17239531352327683,
          0.17577313239951564,
          0.17925516430012856,
          0.19828028677319148,
          0.1948353524103091,
          0.196834421526205,
          0.2016167145654631,
          0.2078604710185212,
          0.21490639969800052,
          0.2053706492052203,
          0.19055965429324292,
          0.18302889925932259,
          0.18934326027691253,
          0.175566036914947,
          0.1581091208305456,
          0.16240045298473837,
          0.17111759044667307,
          0.17202932249099384,
          0.14509622203875464,
          0.15125923674569552,
          0.1574677191185789,
          0.1399533361268378,
          0.14415510577083016,
          0.13571845305796643,
          0.18551772122733168,
          0.1738481272574905,
          0.17822653430265298,
          0.197700049614745,
          0.19448166079975138,
          0.15908177052166428,
          0.14415293531836948,
          0.1429239727075785,
          0.1385049489159263,
          0.16993998203609795,
          0.1486275536918929,
          0.16135532492394364,
          0.1610392587005462,
          0.15744751622855468,
          0.135074086581986,
          0.14027128749793522,
          0.17335232509937493,
          0.17689746541180704,
          0.18239031582119242,
          0.17529317470504135,
          0.17184048533285737,
          0.13949141737322093,
          0.13277594950432256,
          0.12208030533184808,
          0.11605265911591937,
          0.1260250217909097,
          0.15463155261246797,
          0.1250337838150405,
          null
         ],
         "yaxis": "y"
        }
       ],
       "layout": {
        "legend": {
         "title": {
          "text": "variable"
         },
         "tracegroupgap": 0
        },
        "template": {
         "data": {
          "bar": [
           {
            "error_x": {
             "color": "#2a3f5f"
            },
            "error_y": {
             "color": "#2a3f5f"
            },
            "marker": {
             "line": {
              "color": "#E5ECF6",
              "width": 0.5
             },
             "pattern": {
              "fillmode": "overlay",
              "size": 10,
              "solidity": 0.2
             }
            },
            "type": "bar"
           }
          ],
          "barpolar": [
           {
            "marker": {
             "line": {
              "color": "#E5ECF6",
              "width": 0.5
             },
             "pattern": {
              "fillmode": "overlay",
              "size": 10,
              "solidity": 0.2
             }
            },
            "type": "barpolar"
           }
          ],
          "carpet": [
           {
            "aaxis": {
             "endlinecolor": "#2a3f5f",
             "gridcolor": "white",
             "linecolor": "white",
             "minorgridcolor": "white",
             "startlinecolor": "#2a3f5f"
            },
            "baxis": {
             "endlinecolor": "#2a3f5f",
             "gridcolor": "white",
             "linecolor": "white",
             "minorgridcolor": "white",
             "startlinecolor": "#2a3f5f"
            },
            "type": "carpet"
           }
          ],
          "choropleth": [
           {
            "colorbar": {
             "outlinewidth": 0,
             "ticks": ""
            },
            "type": "choropleth"
           }
          ],
          "contour": [
           {
            "colorbar": {
             "outlinewidth": 0,
             "ticks": ""
            },
            "colorscale": [
             [
              0,
              "#0d0887"
             ],
             [
              0.1111111111111111,
              "#46039f"
             ],
             [
              0.2222222222222222,
              "#7201a8"
             ],
             [
              0.3333333333333333,
              "#9c179e"
             ],
             [
              0.4444444444444444,
              "#bd3786"
             ],
             [
              0.5555555555555556,
              "#d8576b"
             ],
             [
              0.6666666666666666,
              "#ed7953"
             ],
             [
              0.7777777777777778,
              "#fb9f3a"
             ],
             [
              0.8888888888888888,
              "#fdca26"
             ],
             [
              1,
              "#f0f921"
             ]
            ],
            "type": "contour"
           }
          ],
          "contourcarpet": [
           {
            "colorbar": {
             "outlinewidth": 0,
             "ticks": ""
            },
            "type": "contourcarpet"
           }
          ],
          "heatmap": [
           {
            "colorbar": {
             "outlinewidth": 0,
             "ticks": ""
            },
            "colorscale": [
             [
              0,
              "#0d0887"
             ],
             [
              0.1111111111111111,
              "#46039f"
             ],
             [
              0.2222222222222222,
              "#7201a8"
             ],
             [
              0.3333333333333333,
              "#9c179e"
             ],
             [
              0.4444444444444444,
              "#bd3786"
             ],
             [
              0.5555555555555556,
              "#d8576b"
             ],
             [
              0.6666666666666666,
              "#ed7953"
             ],
             [
              0.7777777777777778,
              "#fb9f3a"
             ],
             [
              0.8888888888888888,
              "#fdca26"
             ],
             [
              1,
              "#f0f921"
             ]
            ],
            "type": "heatmap"
           }
          ],
          "heatmapgl": [
           {
            "colorbar": {
             "outlinewidth": 0,
             "ticks": ""
            },
            "colorscale": [
             [
              0,
              "#0d0887"
             ],
             [
              0.1111111111111111,
              "#46039f"
             ],
             [
              0.2222222222222222,
              "#7201a8"
             ],
             [
              0.3333333333333333,
              "#9c179e"
             ],
             [
              0.4444444444444444,
              "#bd3786"
             ],
             [
              0.5555555555555556,
              "#d8576b"
             ],
             [
              0.6666666666666666,
              "#ed7953"
             ],
             [
              0.7777777777777778,
              "#fb9f3a"
             ],
             [
              0.8888888888888888,
              "#fdca26"
             ],
             [
              1,
              "#f0f921"
             ]
            ],
            "type": "heatmapgl"
           }
          ],
          "histogram": [
           {
            "marker": {
             "pattern": {
              "fillmode": "overlay",
              "size": 10,
              "solidity": 0.2
             }
            },
            "type": "histogram"
           }
          ],
          "histogram2d": [
           {
            "colorbar": {
             "outlinewidth": 0,
             "ticks": ""
            },
            "colorscale": [
             [
              0,
              "#0d0887"
             ],
             [
              0.1111111111111111,
              "#46039f"
             ],
             [
              0.2222222222222222,
              "#7201a8"
             ],
             [
              0.3333333333333333,
              "#9c179e"
             ],
             [
              0.4444444444444444,
              "#bd3786"
             ],
             [
              0.5555555555555556,
              "#d8576b"
             ],
             [
              0.6666666666666666,
              "#ed7953"
             ],
             [
              0.7777777777777778,
              "#fb9f3a"
             ],
             [
              0.8888888888888888,
              "#fdca26"
             ],
             [
              1,
              "#f0f921"
             ]
            ],
            "type": "histogram2d"
           }
          ],
          "histogram2dcontour": [
           {
            "colorbar": {
             "outlinewidth": 0,
             "ticks": ""
            },
            "colorscale": [
             [
              0,
              "#0d0887"
             ],
             [
              0.1111111111111111,
              "#46039f"
             ],
             [
              0.2222222222222222,
              "#7201a8"
             ],
             [
              0.3333333333333333,
              "#9c179e"
             ],
             [
              0.4444444444444444,
              "#bd3786"
             ],
             [
              0.5555555555555556,
              "#d8576b"
             ],
             [
              0.6666666666666666,
              "#ed7953"
             ],
             [
              0.7777777777777778,
              "#fb9f3a"
             ],
             [
              0.8888888888888888,
              "#fdca26"
             ],
             [
              1,
              "#f0f921"
             ]
            ],
            "type": "histogram2dcontour"
           }
          ],
          "mesh3d": [
           {
            "colorbar": {
             "outlinewidth": 0,
             "ticks": ""
            },
            "type": "mesh3d"
           }
          ],
          "parcoords": [
           {
            "line": {
             "colorbar": {
              "outlinewidth": 0,
              "ticks": ""
             }
            },
            "type": "parcoords"
           }
          ],
          "pie": [
           {
            "automargin": true,
            "type": "pie"
           }
          ],
          "scatter": [
           {
            "marker": {
             "colorbar": {
              "outlinewidth": 0,
              "ticks": ""
             }
            },
            "type": "scatter"
           }
          ],
          "scatter3d": [
           {
            "line": {
             "colorbar": {
              "outlinewidth": 0,
              "ticks": ""
             }
            },
            "marker": {
             "colorbar": {
              "outlinewidth": 0,
              "ticks": ""
             }
            },
            "type": "scatter3d"
           }
          ],
          "scattercarpet": [
           {
            "marker": {
             "colorbar": {
              "outlinewidth": 0,
              "ticks": ""
             }
            },
            "type": "scattercarpet"
           }
          ],
          "scattergeo": [
           {
            "marker": {
             "colorbar": {
              "outlinewidth": 0,
              "ticks": ""
             }
            },
            "type": "scattergeo"
           }
          ],
          "scattergl": [
           {
            "marker": {
             "colorbar": {
              "outlinewidth": 0,
              "ticks": ""
             }
            },
            "type": "scattergl"
           }
          ],
          "scattermapbox": [
           {
            "marker": {
             "colorbar": {
              "outlinewidth": 0,
              "ticks": ""
             }
            },
            "type": "scattermapbox"
           }
          ],
          "scatterpolar": [
           {
            "marker": {
             "colorbar": {
              "outlinewidth": 0,
              "ticks": ""
             }
            },
            "type": "scatterpolar"
           }
          ],
          "scatterpolargl": [
           {
            "marker": {
             "colorbar": {
              "outlinewidth": 0,
              "ticks": ""
             }
            },
            "type": "scatterpolargl"
           }
          ],
          "scatterternary": [
           {
            "marker": {
             "colorbar": {
              "outlinewidth": 0,
              "ticks": ""
             }
            },
            "type": "scatterternary"
           }
          ],
          "surface": [
           {
            "colorbar": {
             "outlinewidth": 0,
             "ticks": ""
            },
            "colorscale": [
             [
              0,
              "#0d0887"
             ],
             [
              0.1111111111111111,
              "#46039f"
             ],
             [
              0.2222222222222222,
              "#7201a8"
             ],
             [
              0.3333333333333333,
              "#9c179e"
             ],
             [
              0.4444444444444444,
              "#bd3786"
             ],
             [
              0.5555555555555556,
              "#d8576b"
             ],
             [
              0.6666666666666666,
              "#ed7953"
             ],
             [
              0.7777777777777778,
              "#fb9f3a"
             ],
             [
              0.8888888888888888,
              "#fdca26"
             ],
             [
              1,
              "#f0f921"
             ]
            ],
            "type": "surface"
           }
          ],
          "table": [
           {
            "cells": {
             "fill": {
              "color": "#EBF0F8"
             },
             "line": {
              "color": "white"
             }
            },
            "header": {
             "fill": {
              "color": "#C8D4E3"
             },
             "line": {
              "color": "white"
             }
            },
            "type": "table"
           }
          ]
         },
         "layout": {
          "annotationdefaults": {
           "arrowcolor": "#2a3f5f",
           "arrowhead": 0,
           "arrowwidth": 1
          },
          "autotypenumbers": "strict",
          "coloraxis": {
           "colorbar": {
            "outlinewidth": 0,
            "ticks": ""
           }
          },
          "colorscale": {
           "diverging": [
            [
             0,
             "#8e0152"
            ],
            [
             0.1,
             "#c51b7d"
            ],
            [
             0.2,
             "#de77ae"
            ],
            [
             0.3,
             "#f1b6da"
            ],
            [
             0.4,
             "#fde0ef"
            ],
            [
             0.5,
             "#f7f7f7"
            ],
            [
             0.6,
             "#e6f5d0"
            ],
            [
             0.7,
             "#b8e186"
            ],
            [
             0.8,
             "#7fbc41"
            ],
            [
             0.9,
             "#4d9221"
            ],
            [
             1,
             "#276419"
            ]
           ],
           "sequential": [
            [
             0,
             "#0d0887"
            ],
            [
             0.1111111111111111,
             "#46039f"
            ],
            [
             0.2222222222222222,
             "#7201a8"
            ],
            [
             0.3333333333333333,
             "#9c179e"
            ],
            [
             0.4444444444444444,
             "#bd3786"
            ],
            [
             0.5555555555555556,
             "#d8576b"
            ],
            [
             0.6666666666666666,
             "#ed7953"
            ],
            [
             0.7777777777777778,
             "#fb9f3a"
            ],
            [
             0.8888888888888888,
             "#fdca26"
            ],
            [
             1,
             "#f0f921"
            ]
           ],
           "sequentialminus": [
            [
             0,
             "#0d0887"
            ],
            [
             0.1111111111111111,
             "#46039f"
            ],
            [
             0.2222222222222222,
             "#7201a8"
            ],
            [
             0.3333333333333333,
             "#9c179e"
            ],
            [
             0.4444444444444444,
             "#bd3786"
            ],
            [
             0.5555555555555556,
             "#d8576b"
            ],
            [
             0.6666666666666666,
             "#ed7953"
            ],
            [
             0.7777777777777778,
             "#fb9f3a"
            ],
            [
             0.8888888888888888,
             "#fdca26"
            ],
            [
             1,
             "#f0f921"
            ]
           ]
          },
          "colorway": [
           "#636efa",
           "#EF553B",
           "#00cc96",
           "#ab63fa",
           "#FFA15A",
           "#19d3f3",
           "#FF6692",
           "#B6E880",
           "#FF97FF",
           "#FECB52"
          ],
          "font": {
           "color": "#2a3f5f"
          },
          "geo": {
           "bgcolor": "white",
           "lakecolor": "white",
           "landcolor": "#E5ECF6",
           "showlakes": true,
           "showland": true,
           "subunitcolor": "white"
          },
          "hoverlabel": {
           "align": "left"
          },
          "hovermode": "closest",
          "mapbox": {
           "style": "light"
          },
          "paper_bgcolor": "white",
          "plot_bgcolor": "#E5ECF6",
          "polar": {
           "angularaxis": {
            "gridcolor": "white",
            "linecolor": "white",
            "ticks": ""
           },
           "bgcolor": "#E5ECF6",
           "radialaxis": {
            "gridcolor": "white",
            "linecolor": "white",
            "ticks": ""
           }
          },
          "scene": {
           "xaxis": {
            "backgroundcolor": "#E5ECF6",
            "gridcolor": "white",
            "gridwidth": 2,
            "linecolor": "white",
            "showbackground": true,
            "ticks": "",
            "zerolinecolor": "white"
           },
           "yaxis": {
            "backgroundcolor": "#E5ECF6",
            "gridcolor": "white",
            "gridwidth": 2,
            "linecolor": "white",
            "showbackground": true,
            "ticks": "",
            "zerolinecolor": "white"
           },
           "zaxis": {
            "backgroundcolor": "#E5ECF6",
            "gridcolor": "white",
            "gridwidth": 2,
            "linecolor": "white",
            "showbackground": true,
            "ticks": "",
            "zerolinecolor": "white"
           }
          },
          "shapedefaults": {
           "line": {
            "color": "#2a3f5f"
           }
          },
          "ternary": {
           "aaxis": {
            "gridcolor": "white",
            "linecolor": "white",
            "ticks": ""
           },
           "baxis": {
            "gridcolor": "white",
            "linecolor": "white",
            "ticks": ""
           },
           "bgcolor": "#E5ECF6",
           "caxis": {
            "gridcolor": "white",
            "linecolor": "white",
            "ticks": ""
           }
          },
          "title": {
           "x": 0.05
          },
          "xaxis": {
           "automargin": true,
           "gridcolor": "white",
           "linecolor": "white",
           "ticks": "",
           "title": {
            "standoff": 15
           },
           "zerolinecolor": "white",
           "zerolinewidth": 2
          },
          "yaxis": {
           "automargin": true,
           "gridcolor": "white",
           "linecolor": "white",
           "ticks": "",
           "title": {
            "standoff": 15
           },
           "zerolinecolor": "white",
           "zerolinewidth": 2
          }
         }
        },
        "title": {
         "text": "Graphcore"
        },
        "xaxis": {
         "anchor": "y",
         "domain": [
          0,
          1
         ],
         "rangeslider": {
          "visible": true
         },
         "title": {
          "text": "Time since founding"
         }
        },
        "yaxis": {
         "anchor": "x",
         "domain": [
          0,
          1
         ],
         "title": {
          "text": "value"
         }
        }
       }
      }
     },
     "metadata": {},
     "output_type": "display_data"
    }
   ],
   "source": [
    "data = code_to_time('/g/11f006dwxx'\t, '_no_events')\n",
    "data.index = pd.DatetimeIndex(data.index.values, freq='W')\n",
    "model = ARIMA(data, order=(1, 1, 2))\n",
    "\n",
    "model = model.fit()\n",
    "\n",
    "import plotly.express as px\n",
    "\n",
    "\n",
    "code = '/g/11f006dwxx'\t\n",
    "name = comp_data_eval.loc[comp_data_eval.gtCode == code].values[0][0]\n",
    "df   = code_to_time(code, '_no_events')\n",
    "y    = df[f'{code}_no_events']\n",
    "\n",
    "df['Prediction'] = model.predict().shift(-1)\n",
    "\n",
    "fig = px.line(df, x=df.index, y=df.columns[:], title= f'{name}', labels={code: 'Interest', 'date': 'Time since founding'})\n",
    "fig.update_xaxes(rangeslider_visible=True)\n",
    "\n",
    "events = pd.read_excel(f'/Users/erichganz/Documents/Master Thesis/investment data/{name}.xlsx')\n",
    "'''\n",
    "for i in events.iterrows():\n",
    "\n",
    "    # For events \n",
    "    if i[1].Funding != i[1].Funding: fig.add_vline(x=i[1].Date, line_width=1, line_dash=\"dash\", line_color=\"green\")\n",
    "    # For Fundings \n",
    "    else:                            fig.add_vline(x=i[1].Date, line_width=1, line_dash=\"dash\", line_color=\"red\")\n",
    "\n",
    "'''\n",
    "fig.show()"
   ]
  }
 ],
 "metadata": {
  "interpreter": {
   "hash": "31f2aee4e71d21fbe5cf8b01ff0e069b9275f58929596ceb00d14d90e3e16cd6"
  },
  "kernelspec": {
   "display_name": "Python 3.8.9 64-bit",
   "language": "python",
   "name": "python3"
  },
  "language_info": {
   "codemirror_mode": {
    "name": "ipython",
    "version": 3
   },
   "file_extension": ".py",
   "mimetype": "text/x-python",
   "name": "python",
   "nbconvert_exporter": "python",
   "pygments_lexer": "ipython3",
   "version": "3.8.9"
  },
  "orig_nbformat": 4
 },
 "nbformat": 4,
 "nbformat_minor": 2
}
